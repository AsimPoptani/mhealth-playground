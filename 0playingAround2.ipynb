{
 "nbformat": 4,
 "nbformat_minor": 2,
 "metadata": {
  "language_info": {
   "name": "python",
   "codemirror_mode": {
    "name": "ipython",
    "version": 3
   },
   "version": "3.7.3-final"
  },
  "orig_nbformat": 2,
  "file_extension": ".py",
  "mimetype": "text/x-python",
  "name": "python",
  "npconvert_exporter": "python",
  "pygments_lexer": "ipython3",
  "version": 3,
  "kernelspec": {
   "name": "python3",
   "display_name": "Python 3"
  }
 },
 "cells": [
  {
   "cell_type": "code",
   "execution_count": 1,
   "metadata": {},
   "outputs": [],
   "source": [
    "from helper_functions import mhealth_get_dataset\n",
    "import random\n",
    "import tensorflow as tf"
   ]
  },
  {
   "cell_type": "code",
   "execution_count": 2,
   "metadata": {},
   "outputs": [],
   "source": [
    "\n",
    "# Hyperparameters\n",
    "# This is how many samples per col\n",
    "data_length = 10\n",
    "\n",
    "# Choose a random seed for now for reproducibility TODO REMOVE\n",
    "random.seed(123)\n",
    "\n",
    "# Get the dataset\n",
    "dataset=mhealth_get_dataset()\n",
    "\n",
    "# shuffle dataset\n",
    "random.shuffle(dataset)\n",
    "\n",
    "# get 8 training users and 2 test users\n",
    "training_users,test_users = dataset[:8], dataset[8:]\n",
    ""
   ]
  },
  {
   "cell_type": "code",
   "execution_count": 20,
   "metadata": {
    "tags": [
     "outputPrepend"
    ]
   },
   "outputs": [],
   "source": [
    "import pandas as pd\n",
    "\n",
    "tr_df = pd.DataFrame(training_users)"
   ]
  },
  {
   "cell_type": "code",
   "execution_count": 41,
   "metadata": {},
   "outputs": [
    {
     "output_type": "execute_result",
     "data": {
      "text/plain": "                                                data  \\\n0  [[-9.2997, -0.671, 2.2449, 0.03349, 0.025118, ...   \n1  [[-9.5409, -1.2392, -0.77468, -0.083726, -0.05...   \n2  [[-8.3532, 2.5062, -2.406, -1.821, -1.1889, 0....   \n3  [[-9.5767, -1.4661, -0.34247, -0.087912, 0.037...   \n4  [[-9.8646, 0.2986, 1.69, -0.25955, -0.14652, 0...   \n\n                         file_location  id  \n0  ./mhealth-data\\mHealth_subject8.log   8  \n1  ./mhealth-data\\mHealth_subject7.log   7  \n2  ./mhealth-data\\mHealth_subject5.log   5  \n3  ./mhealth-data\\mHealth_subject9.log   9  \n4  ./mhealth-data\\mHealth_subject2.log   2  ",
      "text/html": "<div>\n<style scoped>\n    .dataframe tbody tr th:only-of-type {\n        vertical-align: middle;\n    }\n\n    .dataframe tbody tr th {\n        vertical-align: top;\n    }\n\n    .dataframe thead th {\n        text-align: right;\n    }\n</style>\n<table border=\"1\" class=\"dataframe\">\n  <thead>\n    <tr style=\"text-align: right;\">\n      <th></th>\n      <th>data</th>\n      <th>file_location</th>\n      <th>id</th>\n    </tr>\n  </thead>\n  <tbody>\n    <tr>\n      <th>0</th>\n      <td>[[-9.2997, -0.671, 2.2449, 0.03349, 0.025118, ...</td>\n      <td>./mhealth-data\\mHealth_subject8.log</td>\n      <td>8</td>\n    </tr>\n    <tr>\n      <th>1</th>\n      <td>[[-9.5409, -1.2392, -0.77468, -0.083726, -0.05...</td>\n      <td>./mhealth-data\\mHealth_subject7.log</td>\n      <td>7</td>\n    </tr>\n    <tr>\n      <th>2</th>\n      <td>[[-8.3532, 2.5062, -2.406, -1.821, -1.1889, 0....</td>\n      <td>./mhealth-data\\mHealth_subject5.log</td>\n      <td>5</td>\n    </tr>\n    <tr>\n      <th>3</th>\n      <td>[[-9.5767, -1.4661, -0.34247, -0.087912, 0.037...</td>\n      <td>./mhealth-data\\mHealth_subject9.log</td>\n      <td>9</td>\n    </tr>\n    <tr>\n      <th>4</th>\n      <td>[[-9.8646, 0.2986, 1.69, -0.25955, -0.14652, 0...</td>\n      <td>./mhealth-data\\mHealth_subject2.log</td>\n      <td>2</td>\n    </tr>\n  </tbody>\n</table>\n</div>"
     },
     "metadata": {},
     "execution_count": 41
    }
   ],
   "source": [
    "tr_df.head()"
   ]
  },
  {
   "cell_type": "code",
   "execution_count": 40,
   "metadata": {},
   "outputs": [
    {
     "output_type": "stream",
     "name": "stdout",
     "text": "129024\n104448\n119808\n135168\n130561\n122112\n98304\n98304\n"
    }
   ],
   "source": [
    "for d in tr_df.data:\n",
    "    print(len(d))"
   ]
  },
  {
   "cell_type": "code",
   "execution_count": 42,
   "metadata": {},
   "outputs": [],
   "source": [
    "te_df = pd.DataFrame(test_users)"
   ]
  },
  {
   "cell_type": "code",
   "execution_count": 45,
   "metadata": {},
   "outputs": [
    {
     "output_type": "execute_result",
     "data": {
      "text/plain": "                                                data  \\\n0  [[-2.123, 2.1088, -8.9576, -0.10884, -0.44793,...   \n1  [[-9.8184, 0.009971, 0.29563, 0.0041863, 0.004...   \n\n                         file_location  id  \n0  ./mhealth-data\\mHealth_subject4.log   4  \n1  ./mhealth-data\\mHealth_subject1.log   0  ",
      "text/html": "<div>\n<style scoped>\n    .dataframe tbody tr th:only-of-type {\n        vertical-align: middle;\n    }\n\n    .dataframe tbody tr th {\n        vertical-align: top;\n    }\n\n    .dataframe thead th {\n        text-align: right;\n    }\n</style>\n<table border=\"1\" class=\"dataframe\">\n  <thead>\n    <tr style=\"text-align: right;\">\n      <th></th>\n      <th>data</th>\n      <th>file_location</th>\n      <th>id</th>\n    </tr>\n  </thead>\n  <tbody>\n    <tr>\n      <th>0</th>\n      <td>[[-2.123, 2.1088, -8.9576, -0.10884, -0.44793,...</td>\n      <td>./mhealth-data\\mHealth_subject4.log</td>\n      <td>4</td>\n    </tr>\n    <tr>\n      <th>1</th>\n      <td>[[-9.8184, 0.009971, 0.29563, 0.0041863, 0.004...</td>\n      <td>./mhealth-data\\mHealth_subject1.log</td>\n      <td>0</td>\n    </tr>\n  </tbody>\n</table>\n</div>"
     },
     "metadata": {},
     "execution_count": 45
    }
   ],
   "source": [
    "te_df"
   ]
  },
  {
   "cell_type": "code",
   "execution_count": 44,
   "metadata": {},
   "outputs": [
    {
     "output_type": "stream",
     "name": "stdout",
     "text": "116736\n161280\n"
    }
   ],
   "source": [
    "for d in te_df.data:\n",
    "    print(len(d))"
   ]
  },
  {
   "cell_type": "code",
   "execution_count": 16,
   "metadata": {},
   "outputs": [],
   "source": [
    "# previous=None\n",
    "# user=training_users[0]['data']\n",
    "# for data in user:\n",
    "#     classifcation=data[23]\n",
    "#     if not previous==classifcation:\n",
    "#         previous=classifcation\n",
    "#         print(classifcation)"
   ]
  },
  {
   "cell_type": "code",
   "execution_count": 49,
   "metadata": {},
   "outputs": [
    {
     "output_type": "stream",
     "name": "stdout",
     "text": "(129024, 24)\n"
    },
    {
     "output_type": "execute_result",
     "data": {
      "text/plain": "       0        1       2         3         4        5       6       7   \\\n0 -9.2997 -0.67100  2.2449  0.033490  0.025118 -0.56999 -9.8471 -1.5397   \n1 -9.3296 -0.68980  2.0748  0.062794  0.037677 -0.41798 -9.7781 -1.5764   \n2 -9.3448 -0.94215  2.0415  0.079540  0.025118 -0.15363 -9.7191 -1.6125   \n3 -9.4969 -0.91465  2.1703  0.100470  0.004186 -0.42629 -9.8462 -1.4549   \n4 -9.6631 -0.68483  2.2542  0.079540 -0.020931 -0.43776 -9.7575 -1.4923   \n\n        8        9   ...      14      15       16       17       18       19  \\\n0 -0.14657 -0.16886  ... -2.1972 -9.4860 -0.59930 -0.69412 -0.28131 -0.42457   \n1 -0.14657 -0.16886  ... -1.9841 -9.6963 -0.63065 -0.69020 -0.27310 -0.44181   \n2 -0.16141 -0.17073  ... -2.1782 -9.5554 -0.54027 -0.69020 -0.27310 -0.44181   \n3 -0.16141 -0.17073  ... -2.0065 -9.7055 -0.54777 -0.69020 -0.27310 -0.44181   \n4 -0.16141 -0.17073  ... -2.1482 -9.5554 -0.54027 -0.69020 -0.27310 -0.44181   \n\n         20       21       22   23  \n0  0.547510  0.89116 -1.08100  0.0  \n1  0.003521  0.35208 -1.08650  0.0  \n2  0.181220  0.16887 -1.08110  0.0  \n3  0.357140 -0.19219 -0.71296  0.0  \n4  0.355290 -0.37725 -1.07220  0.0  \n\n[5 rows x 24 columns]",
      "text/html": "<div>\n<style scoped>\n    .dataframe tbody tr th:only-of-type {\n        vertical-align: middle;\n    }\n\n    .dataframe tbody tr th {\n        vertical-align: top;\n    }\n\n    .dataframe thead th {\n        text-align: right;\n    }\n</style>\n<table border=\"1\" class=\"dataframe\">\n  <thead>\n    <tr style=\"text-align: right;\">\n      <th></th>\n      <th>0</th>\n      <th>1</th>\n      <th>2</th>\n      <th>3</th>\n      <th>4</th>\n      <th>5</th>\n      <th>6</th>\n      <th>7</th>\n      <th>8</th>\n      <th>9</th>\n      <th>...</th>\n      <th>14</th>\n      <th>15</th>\n      <th>16</th>\n      <th>17</th>\n      <th>18</th>\n      <th>19</th>\n      <th>20</th>\n      <th>21</th>\n      <th>22</th>\n      <th>23</th>\n    </tr>\n  </thead>\n  <tbody>\n    <tr>\n      <th>0</th>\n      <td>-9.2997</td>\n      <td>-0.67100</td>\n      <td>2.2449</td>\n      <td>0.033490</td>\n      <td>0.025118</td>\n      <td>-0.56999</td>\n      <td>-9.8471</td>\n      <td>-1.5397</td>\n      <td>-0.14657</td>\n      <td>-0.16886</td>\n      <td>...</td>\n      <td>-2.1972</td>\n      <td>-9.4860</td>\n      <td>-0.59930</td>\n      <td>-0.69412</td>\n      <td>-0.28131</td>\n      <td>-0.42457</td>\n      <td>0.547510</td>\n      <td>0.89116</td>\n      <td>-1.08100</td>\n      <td>0.0</td>\n    </tr>\n    <tr>\n      <th>1</th>\n      <td>-9.3296</td>\n      <td>-0.68980</td>\n      <td>2.0748</td>\n      <td>0.062794</td>\n      <td>0.037677</td>\n      <td>-0.41798</td>\n      <td>-9.7781</td>\n      <td>-1.5764</td>\n      <td>-0.14657</td>\n      <td>-0.16886</td>\n      <td>...</td>\n      <td>-1.9841</td>\n      <td>-9.6963</td>\n      <td>-0.63065</td>\n      <td>-0.69020</td>\n      <td>-0.27310</td>\n      <td>-0.44181</td>\n      <td>0.003521</td>\n      <td>0.35208</td>\n      <td>-1.08650</td>\n      <td>0.0</td>\n    </tr>\n    <tr>\n      <th>2</th>\n      <td>-9.3448</td>\n      <td>-0.94215</td>\n      <td>2.0415</td>\n      <td>0.079540</td>\n      <td>0.025118</td>\n      <td>-0.15363</td>\n      <td>-9.7191</td>\n      <td>-1.6125</td>\n      <td>-0.16141</td>\n      <td>-0.17073</td>\n      <td>...</td>\n      <td>-2.1782</td>\n      <td>-9.5554</td>\n      <td>-0.54027</td>\n      <td>-0.69020</td>\n      <td>-0.27310</td>\n      <td>-0.44181</td>\n      <td>0.181220</td>\n      <td>0.16887</td>\n      <td>-1.08110</td>\n      <td>0.0</td>\n    </tr>\n    <tr>\n      <th>3</th>\n      <td>-9.4969</td>\n      <td>-0.91465</td>\n      <td>2.1703</td>\n      <td>0.100470</td>\n      <td>0.004186</td>\n      <td>-0.42629</td>\n      <td>-9.8462</td>\n      <td>-1.4549</td>\n      <td>-0.16141</td>\n      <td>-0.17073</td>\n      <td>...</td>\n      <td>-2.0065</td>\n      <td>-9.7055</td>\n      <td>-0.54777</td>\n      <td>-0.69020</td>\n      <td>-0.27310</td>\n      <td>-0.44181</td>\n      <td>0.357140</td>\n      <td>-0.19219</td>\n      <td>-0.71296</td>\n      <td>0.0</td>\n    </tr>\n    <tr>\n      <th>4</th>\n      <td>-9.6631</td>\n      <td>-0.68483</td>\n      <td>2.2542</td>\n      <td>0.079540</td>\n      <td>-0.020931</td>\n      <td>-0.43776</td>\n      <td>-9.7575</td>\n      <td>-1.4923</td>\n      <td>-0.16141</td>\n      <td>-0.17073</td>\n      <td>...</td>\n      <td>-2.1482</td>\n      <td>-9.5554</td>\n      <td>-0.54027</td>\n      <td>-0.69020</td>\n      <td>-0.27310</td>\n      <td>-0.44181</td>\n      <td>0.355290</td>\n      <td>-0.37725</td>\n      <td>-1.07220</td>\n      <td>0.0</td>\n    </tr>\n  </tbody>\n</table>\n<p>5 rows × 24 columns</p>\n</div>"
     },
     "metadata": {},
     "execution_count": 49
    }
   ],
   "source": [
    "previous=None\n",
    "user=training_users[0]['data']\n",
    "u_df = pd.DataFrame(user)\n",
    "print(u_df.shape)\n",
    "u_df.head()"
   ]
  },
  {
   "cell_type": "code",
   "execution_count": 50,
   "metadata": {},
   "outputs": [
    {
     "output_type": "stream",
     "name": "stdout",
     "text": "0.0\n1.0\n0.0\n3.0\n0.0\n2.0\n0.0\n4.0\n0.0\n5.0\n0.0\n5.0\n0.0\n6.0\n0.0\n7.0\n0.0\n8.0\n0.0\n9.0\n0.0\n10.0\n0.0\n11.0\n0.0\n12.0\n0.0\n"
    }
   ],
   "source": [
    "for data in user:\n",
    "    classifcation=data[23]\n",
    "    if not previous==classifcation:\n",
    "        previous=classifcation\n",
    "        print(classifcation)"
   ]
  },
  {
   "cell_type": "code",
   "execution_count": null,
   "metadata": {},
   "outputs": [],
   "source": []
  }
 ]
}