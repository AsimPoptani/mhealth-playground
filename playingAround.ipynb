{
 "nbformat": 4,
 "nbformat_minor": 2,
 "metadata": {
  "language_info": {
   "name": "python",
   "codemirror_mode": {
    "name": "ipython",
    "version": 3
   },
   "version": "3.7.3-final"
  },
  "orig_nbformat": 2,
  "file_extension": ".py",
  "mimetype": "text/x-python",
  "name": "python",
  "npconvert_exporter": "python",
  "pygments_lexer": "ipython3",
  "version": 3,
  "kernelspec": {
   "name": "python3",
   "display_name": "Python 3"
  }
 },
 "cells": [
  {
   "cell_type": "code",
   "execution_count": 127,
   "metadata": {},
   "outputs": [],
   "source": [
    "import readData\n",
    ""
   ]
  },
  {
   "cell_type": "code",
   "execution_count": 128,
   "metadata": {},
   "outputs": [],
   "source": [
    "lst = readData.mhealth_get_dataset()"
   ]
  },
  {
   "cell_type": "code",
   "execution_count": 129,
   "metadata": {},
   "outputs": [],
   "source": [
    "import pandas as pd\n",
    "\n",
    "subjects = pd.DataFrame(lst)"
   ]
  },
  {
   "cell_type": "code",
   "execution_count": 130,
   "metadata": {},
   "outputs": [
    {
     "output_type": "execute_result",
     "data": {
      "text/plain": "                                                data  \\\n0  [[-9.8184, 0.009971, 0.29563, 0.0041863, 0.004...   \n1  [[-9.6997, -0.87525, -0.96298, -0.029304, -0.0...   \n2  [[-9.8646, 0.2986, 1.69, -0.25955, -0.14652, 0...   \n3  [[-9.4674, 0.13721, 1.0545, 0.23862, -0.03349,...   \n4  [[-2.123, 2.1088, -8.9576, -0.10884, -0.44793,...   \n5  [[-8.3532, 2.5062, -2.406, -1.821, -1.1889, 0....   \n6  [[-9.1319, 2.0514, -0.13116, 0.083726, -0.0418...   \n7  [[-9.5409, -1.2392, -0.77468, -0.083726, -0.05...   \n8  [[-9.2997, -0.671, 2.2449, 0.03349, 0.025118, ...   \n9  [[-9.5767, -1.4661, -0.34247, -0.087912, 0.037...   \n\n                          file_location  id  \n0   ./mhealth-data\\mHealth_subject1.log   0  \n1  ./mhealth-data\\mHealth_subject10.log   1  \n2   ./mhealth-data\\mHealth_subject2.log   2  \n3   ./mhealth-data\\mHealth_subject3.log   3  \n4   ./mhealth-data\\mHealth_subject4.log   4  \n5   ./mhealth-data\\mHealth_subject5.log   5  \n6   ./mhealth-data\\mHealth_subject6.log   6  \n7   ./mhealth-data\\mHealth_subject7.log   7  \n8   ./mhealth-data\\mHealth_subject8.log   8  \n9   ./mhealth-data\\mHealth_subject9.log   9  ",
      "text/html": "<div>\n<style scoped>\n    .dataframe tbody tr th:only-of-type {\n        vertical-align: middle;\n    }\n\n    .dataframe tbody tr th {\n        vertical-align: top;\n    }\n\n    .dataframe thead th {\n        text-align: right;\n    }\n</style>\n<table border=\"1\" class=\"dataframe\">\n  <thead>\n    <tr style=\"text-align: right;\">\n      <th></th>\n      <th>data</th>\n      <th>file_location</th>\n      <th>id</th>\n    </tr>\n  </thead>\n  <tbody>\n    <tr>\n      <th>0</th>\n      <td>[[-9.8184, 0.009971, 0.29563, 0.0041863, 0.004...</td>\n      <td>./mhealth-data\\mHealth_subject1.log</td>\n      <td>0</td>\n    </tr>\n    <tr>\n      <th>1</th>\n      <td>[[-9.6997, -0.87525, -0.96298, -0.029304, -0.0...</td>\n      <td>./mhealth-data\\mHealth_subject10.log</td>\n      <td>1</td>\n    </tr>\n    <tr>\n      <th>2</th>\n      <td>[[-9.8646, 0.2986, 1.69, -0.25955, -0.14652, 0...</td>\n      <td>./mhealth-data\\mHealth_subject2.log</td>\n      <td>2</td>\n    </tr>\n    <tr>\n      <th>3</th>\n      <td>[[-9.4674, 0.13721, 1.0545, 0.23862, -0.03349,...</td>\n      <td>./mhealth-data\\mHealth_subject3.log</td>\n      <td>3</td>\n    </tr>\n    <tr>\n      <th>4</th>\n      <td>[[-2.123, 2.1088, -8.9576, -0.10884, -0.44793,...</td>\n      <td>./mhealth-data\\mHealth_subject4.log</td>\n      <td>4</td>\n    </tr>\n    <tr>\n      <th>5</th>\n      <td>[[-8.3532, 2.5062, -2.406, -1.821, -1.1889, 0....</td>\n      <td>./mhealth-data\\mHealth_subject5.log</td>\n      <td>5</td>\n    </tr>\n    <tr>\n      <th>6</th>\n      <td>[[-9.1319, 2.0514, -0.13116, 0.083726, -0.0418...</td>\n      <td>./mhealth-data\\mHealth_subject6.log</td>\n      <td>6</td>\n    </tr>\n    <tr>\n      <th>7</th>\n      <td>[[-9.5409, -1.2392, -0.77468, -0.083726, -0.05...</td>\n      <td>./mhealth-data\\mHealth_subject7.log</td>\n      <td>7</td>\n    </tr>\n    <tr>\n      <th>8</th>\n      <td>[[-9.2997, -0.671, 2.2449, 0.03349, 0.025118, ...</td>\n      <td>./mhealth-data\\mHealth_subject8.log</td>\n      <td>8</td>\n    </tr>\n    <tr>\n      <th>9</th>\n      <td>[[-9.5767, -1.4661, -0.34247, -0.087912, 0.037...</td>\n      <td>./mhealth-data\\mHealth_subject9.log</td>\n      <td>9</td>\n    </tr>\n  </tbody>\n</table>\n</div>"
     },
     "metadata": {},
     "execution_count": 130
    }
   ],
   "source": [
    "subjects"
   ]
  },
  {
   "cell_type": "code",
   "execution_count": 131,
   "metadata": {},
   "outputs": [
    {
     "output_type": "stream",
     "name": "stdout",
     "text": "<class 'pandas.core.frame.DataFrame'>\nRangeIndex: 10 entries, 0 to 9\nData columns (total 3 columns):\ndata             10 non-null object\nfile_location    10 non-null object\nid               10 non-null int64\ndtypes: int64(1), object(2)\nmemory usage: 320.0+ bytes\n"
    }
   ],
   "source": [
    "subjects.info()"
   ]
  },
  {
   "cell_type": "code",
   "execution_count": 132,
   "metadata": {},
   "outputs": [],
   "source": [
    "# subjects.data\n",
    "# subjects.data[0]\n",
    "# len(subjects.data[0])\n",
    "# len(subject0) # number of rows \n",
    "# len(subject0[0]) # numbers of columns\n",
    "# for i in range(len(subjects.data[0])):\n",
    "#     print(len(subjects.data[0][i]))\n",
    "\n",
    "# 10 subjects\n",
    "# Each subject has data which is a 2D list of length 161,280\n",
    "# Every object in the 2D list is an list of length 24\n",
    "# Getting first subjects data (2D list)\n",
    "\n",
    "subject0 = subjects.data[0]"
   ]
  },
  {
   "cell_type": "code",
   "execution_count": 133,
   "metadata": {},
   "outputs": [
    {
     "output_type": "execute_result",
     "data": {
      "text/plain": "(161280, 24)"
     },
     "metadata": {},
     "execution_count": 133
    }
   ],
   "source": [
    "#Converting to DataFrame\n",
    "subject0_df = pd.DataFrame(subject0)\n",
    "subject0_df.shape # 161280 rows × 24 columns"
   ]
  },
  {
   "cell_type": "code",
   "execution_count": 134,
   "metadata": {},
   "outputs": [
    {
     "output_type": "execute_result",
     "data": {
      "text/plain": "       0         1        2         3         4       5       6        7   \\\n0 -9.8184  0.009971  0.29563  0.004186  0.004186  2.1849 -9.6967  0.63077   \n1 -9.8489  0.524040  0.37348  0.004186  0.016745  2.3876 -9.5080  0.68389   \n2 -9.6602  0.181850  0.43742  0.016745  0.037677  2.4086 -9.5674  0.68113   \n3 -9.6507  0.214220  0.24033  0.079540  0.117220  2.1814 -9.4301  0.55031   \n4 -9.7030  0.303890  0.31156  0.221870  0.205130  2.4173 -9.3889  0.71098   \n\n         8        9   ...      14      15        16       17      18  \\\n0  0.103900 -0.84053  ... -8.6499 -4.5781  0.187760 -0.44902 -1.0103   \n1  0.085343 -0.83865  ... -8.6275 -4.3198  0.023595 -0.44902 -1.0103   \n2  0.085343 -0.83865  ... -8.5055 -4.2772  0.275720 -0.44902 -1.0103   \n3  0.085343 -0.83865  ... -8.6279 -4.3163  0.367520 -0.45686 -1.0082   \n4  0.085343 -0.83865  ... -8.7008 -4.1459  0.407290 -0.45686 -1.0082   \n\n         19       20        21        22   23  \n0  0.034483 -2.35000 -1.610200 -0.030899  0.0  \n1  0.034483 -2.16320 -0.882540  0.326570  0.0  \n2  0.034483 -1.61750 -0.165620 -0.030693  0.0  \n3  0.025862 -1.07710  0.006945 -0.382620  0.0  \n4  0.025862 -0.53684  0.175900 -1.095500  0.0  \n\n[5 rows x 24 columns]",
      "text/html": "<div>\n<style scoped>\n    .dataframe tbody tr th:only-of-type {\n        vertical-align: middle;\n    }\n\n    .dataframe tbody tr th {\n        vertical-align: top;\n    }\n\n    .dataframe thead th {\n        text-align: right;\n    }\n</style>\n<table border=\"1\" class=\"dataframe\">\n  <thead>\n    <tr style=\"text-align: right;\">\n      <th></th>\n      <th>0</th>\n      <th>1</th>\n      <th>2</th>\n      <th>3</th>\n      <th>4</th>\n      <th>5</th>\n      <th>6</th>\n      <th>7</th>\n      <th>8</th>\n      <th>9</th>\n      <th>...</th>\n      <th>14</th>\n      <th>15</th>\n      <th>16</th>\n      <th>17</th>\n      <th>18</th>\n      <th>19</th>\n      <th>20</th>\n      <th>21</th>\n      <th>22</th>\n      <th>23</th>\n    </tr>\n  </thead>\n  <tbody>\n    <tr>\n      <th>0</th>\n      <td>-9.8184</td>\n      <td>0.009971</td>\n      <td>0.29563</td>\n      <td>0.004186</td>\n      <td>0.004186</td>\n      <td>2.1849</td>\n      <td>-9.6967</td>\n      <td>0.63077</td>\n      <td>0.103900</td>\n      <td>-0.84053</td>\n      <td>...</td>\n      <td>-8.6499</td>\n      <td>-4.5781</td>\n      <td>0.187760</td>\n      <td>-0.44902</td>\n      <td>-1.0103</td>\n      <td>0.034483</td>\n      <td>-2.35000</td>\n      <td>-1.610200</td>\n      <td>-0.030899</td>\n      <td>0.0</td>\n    </tr>\n    <tr>\n      <th>1</th>\n      <td>-9.8489</td>\n      <td>0.524040</td>\n      <td>0.37348</td>\n      <td>0.004186</td>\n      <td>0.016745</td>\n      <td>2.3876</td>\n      <td>-9.5080</td>\n      <td>0.68389</td>\n      <td>0.085343</td>\n      <td>-0.83865</td>\n      <td>...</td>\n      <td>-8.6275</td>\n      <td>-4.3198</td>\n      <td>0.023595</td>\n      <td>-0.44902</td>\n      <td>-1.0103</td>\n      <td>0.034483</td>\n      <td>-2.16320</td>\n      <td>-0.882540</td>\n      <td>0.326570</td>\n      <td>0.0</td>\n    </tr>\n    <tr>\n      <th>2</th>\n      <td>-9.6602</td>\n      <td>0.181850</td>\n      <td>0.43742</td>\n      <td>0.016745</td>\n      <td>0.037677</td>\n      <td>2.4086</td>\n      <td>-9.5674</td>\n      <td>0.68113</td>\n      <td>0.085343</td>\n      <td>-0.83865</td>\n      <td>...</td>\n      <td>-8.5055</td>\n      <td>-4.2772</td>\n      <td>0.275720</td>\n      <td>-0.44902</td>\n      <td>-1.0103</td>\n      <td>0.034483</td>\n      <td>-1.61750</td>\n      <td>-0.165620</td>\n      <td>-0.030693</td>\n      <td>0.0</td>\n    </tr>\n    <tr>\n      <th>3</th>\n      <td>-9.6507</td>\n      <td>0.214220</td>\n      <td>0.24033</td>\n      <td>0.079540</td>\n      <td>0.117220</td>\n      <td>2.1814</td>\n      <td>-9.4301</td>\n      <td>0.55031</td>\n      <td>0.085343</td>\n      <td>-0.83865</td>\n      <td>...</td>\n      <td>-8.6279</td>\n      <td>-4.3163</td>\n      <td>0.367520</td>\n      <td>-0.45686</td>\n      <td>-1.0082</td>\n      <td>0.025862</td>\n      <td>-1.07710</td>\n      <td>0.006945</td>\n      <td>-0.382620</td>\n      <td>0.0</td>\n    </tr>\n    <tr>\n      <th>4</th>\n      <td>-9.7030</td>\n      <td>0.303890</td>\n      <td>0.31156</td>\n      <td>0.221870</td>\n      <td>0.205130</td>\n      <td>2.4173</td>\n      <td>-9.3889</td>\n      <td>0.71098</td>\n      <td>0.085343</td>\n      <td>-0.83865</td>\n      <td>...</td>\n      <td>-8.7008</td>\n      <td>-4.1459</td>\n      <td>0.407290</td>\n      <td>-0.45686</td>\n      <td>-1.0082</td>\n      <td>0.025862</td>\n      <td>-0.53684</td>\n      <td>0.175900</td>\n      <td>-1.095500</td>\n      <td>0.0</td>\n    </tr>\n  </tbody>\n</table>\n<p>5 rows × 24 columns</p>\n</div>"
     },
     "metadata": {},
     "execution_count": 134
    }
   ],
   "source": [
    "# Outputting first x rows\n",
    "subject0_df.head()"
   ]
  },
  {
   "cell_type": "code",
   "execution_count": 135,
   "metadata": {},
   "outputs": [
    {
     "output_type": "execute_result",
     "data": {
      "text/plain": "                  0              1              2              3   \\\ncount  161280.000000  161280.000000  161280.000000  161280.000000   \nmean       -8.737671       0.186275      -0.645707      -0.007960   \nstd         3.806288       1.453274       3.740042       0.504334   \nmin       -22.303000     -17.430000     -17.906000      -7.321800   \n25%        -9.832900      -0.380693      -2.824350      -0.188380   \n50%        -9.330700       0.252830      -0.316040      -0.025118   \n75%        -8.020800       0.770090       1.665425       0.154890   \nmax        18.960000      20.713000      24.084000       5.450500   \n\n                  4              5              6              7   \\\ncount  161280.000000  161280.000000  161280.000000  161280.000000   \nmean       -0.035226       1.229914      -9.667029      -1.650613   \nstd         0.643813       4.671081       4.064311       5.030605   \nmin        -8.619600     -22.075000     -19.619000     -19.373000   \n25%        -0.205130       0.095848     -10.066000      -3.288900   \n50%        -0.025118       1.785900      -9.570500      -0.711750   \n75%         0.163270       2.643100      -9.025600       0.649125   \nmax         8.519100      20.054000      21.161000      25.015000   \n\n                  8              9   ...             14             15  \\\ncount  161280.000000  161280.000000  ...  161280.000000  161280.000000   \nmean        0.010649      -0.663745  ...      -4.178516      -4.873407   \nstd         0.495378       0.322115  ...       4.316094       6.294977   \nmin        -1.549200      -2.189500  ...     -22.173000     -18.932000   \n25%        -0.372910      -0.848030  ...      -6.267425      -9.271700   \n50%        -0.161410      -0.741090  ...      -3.572100      -7.269950   \n75%         0.500930      -0.596620  ...      -1.819600      -0.063443   \nmax         1.870100       1.525300  ...      19.565000      21.914000   \n\n                  16             17             18             19  \\\ncount  161280.000000  161280.000000  161280.000000  161280.000000   \nmean        2.174713      -0.405350      -0.307315       0.312170   \nstd         3.620740       0.482499       0.657173       0.537174   \nmin       -18.228000      -1.702000      -2.164300      -1.234900   \n25%         0.170480      -0.758820      -0.767970      -0.163790   \n50%         1.478000      -0.505880      -0.587270       0.400860   \n75%         4.387400      -0.129410       0.223820       0.775860   \nmax        25.194000       1.162700       1.556500       2.750000   \n\n                  20             21             22             23  \ncount  161280.000000  161280.000000  161280.000000  161280.000000  \nmean        0.491517       0.550921      -0.231137       1.352356  \nstd        26.486971      32.263002      62.555109       2.981766  \nmin      -268.690000    -363.900000    -697.160000       0.000000  \n25%        -5.458975     -10.782000     -13.399000       0.000000  \n50%         0.362590       0.352170      -0.369920       0.000000  \n75%         6.048675      10.905250      12.793000       0.000000  \nmax       212.270000     334.980000     629.950000      12.000000  \n\n[8 rows x 24 columns]",
      "text/html": "<div>\n<style scoped>\n    .dataframe tbody tr th:only-of-type {\n        vertical-align: middle;\n    }\n\n    .dataframe tbody tr th {\n        vertical-align: top;\n    }\n\n    .dataframe thead th {\n        text-align: right;\n    }\n</style>\n<table border=\"1\" class=\"dataframe\">\n  <thead>\n    <tr style=\"text-align: right;\">\n      <th></th>\n      <th>0</th>\n      <th>1</th>\n      <th>2</th>\n      <th>3</th>\n      <th>4</th>\n      <th>5</th>\n      <th>6</th>\n      <th>7</th>\n      <th>8</th>\n      <th>9</th>\n      <th>...</th>\n      <th>14</th>\n      <th>15</th>\n      <th>16</th>\n      <th>17</th>\n      <th>18</th>\n      <th>19</th>\n      <th>20</th>\n      <th>21</th>\n      <th>22</th>\n      <th>23</th>\n    </tr>\n  </thead>\n  <tbody>\n    <tr>\n      <th>count</th>\n      <td>161280.000000</td>\n      <td>161280.000000</td>\n      <td>161280.000000</td>\n      <td>161280.000000</td>\n      <td>161280.000000</td>\n      <td>161280.000000</td>\n      <td>161280.000000</td>\n      <td>161280.000000</td>\n      <td>161280.000000</td>\n      <td>161280.000000</td>\n      <td>...</td>\n      <td>161280.000000</td>\n      <td>161280.000000</td>\n      <td>161280.000000</td>\n      <td>161280.000000</td>\n      <td>161280.000000</td>\n      <td>161280.000000</td>\n      <td>161280.000000</td>\n      <td>161280.000000</td>\n      <td>161280.000000</td>\n      <td>161280.000000</td>\n    </tr>\n    <tr>\n      <th>mean</th>\n      <td>-8.737671</td>\n      <td>0.186275</td>\n      <td>-0.645707</td>\n      <td>-0.007960</td>\n      <td>-0.035226</td>\n      <td>1.229914</td>\n      <td>-9.667029</td>\n      <td>-1.650613</td>\n      <td>0.010649</td>\n      <td>-0.663745</td>\n      <td>...</td>\n      <td>-4.178516</td>\n      <td>-4.873407</td>\n      <td>2.174713</td>\n      <td>-0.405350</td>\n      <td>-0.307315</td>\n      <td>0.312170</td>\n      <td>0.491517</td>\n      <td>0.550921</td>\n      <td>-0.231137</td>\n      <td>1.352356</td>\n    </tr>\n    <tr>\n      <th>std</th>\n      <td>3.806288</td>\n      <td>1.453274</td>\n      <td>3.740042</td>\n      <td>0.504334</td>\n      <td>0.643813</td>\n      <td>4.671081</td>\n      <td>4.064311</td>\n      <td>5.030605</td>\n      <td>0.495378</td>\n      <td>0.322115</td>\n      <td>...</td>\n      <td>4.316094</td>\n      <td>6.294977</td>\n      <td>3.620740</td>\n      <td>0.482499</td>\n      <td>0.657173</td>\n      <td>0.537174</td>\n      <td>26.486971</td>\n      <td>32.263002</td>\n      <td>62.555109</td>\n      <td>2.981766</td>\n    </tr>\n    <tr>\n      <th>min</th>\n      <td>-22.303000</td>\n      <td>-17.430000</td>\n      <td>-17.906000</td>\n      <td>-7.321800</td>\n      <td>-8.619600</td>\n      <td>-22.075000</td>\n      <td>-19.619000</td>\n      <td>-19.373000</td>\n      <td>-1.549200</td>\n      <td>-2.189500</td>\n      <td>...</td>\n      <td>-22.173000</td>\n      <td>-18.932000</td>\n      <td>-18.228000</td>\n      <td>-1.702000</td>\n      <td>-2.164300</td>\n      <td>-1.234900</td>\n      <td>-268.690000</td>\n      <td>-363.900000</td>\n      <td>-697.160000</td>\n      <td>0.000000</td>\n    </tr>\n    <tr>\n      <th>25%</th>\n      <td>-9.832900</td>\n      <td>-0.380693</td>\n      <td>-2.824350</td>\n      <td>-0.188380</td>\n      <td>-0.205130</td>\n      <td>0.095848</td>\n      <td>-10.066000</td>\n      <td>-3.288900</td>\n      <td>-0.372910</td>\n      <td>-0.848030</td>\n      <td>...</td>\n      <td>-6.267425</td>\n      <td>-9.271700</td>\n      <td>0.170480</td>\n      <td>-0.758820</td>\n      <td>-0.767970</td>\n      <td>-0.163790</td>\n      <td>-5.458975</td>\n      <td>-10.782000</td>\n      <td>-13.399000</td>\n      <td>0.000000</td>\n    </tr>\n    <tr>\n      <th>50%</th>\n      <td>-9.330700</td>\n      <td>0.252830</td>\n      <td>-0.316040</td>\n      <td>-0.025118</td>\n      <td>-0.025118</td>\n      <td>1.785900</td>\n      <td>-9.570500</td>\n      <td>-0.711750</td>\n      <td>-0.161410</td>\n      <td>-0.741090</td>\n      <td>...</td>\n      <td>-3.572100</td>\n      <td>-7.269950</td>\n      <td>1.478000</td>\n      <td>-0.505880</td>\n      <td>-0.587270</td>\n      <td>0.400860</td>\n      <td>0.362590</td>\n      <td>0.352170</td>\n      <td>-0.369920</td>\n      <td>0.000000</td>\n    </tr>\n    <tr>\n      <th>75%</th>\n      <td>-8.020800</td>\n      <td>0.770090</td>\n      <td>1.665425</td>\n      <td>0.154890</td>\n      <td>0.163270</td>\n      <td>2.643100</td>\n      <td>-9.025600</td>\n      <td>0.649125</td>\n      <td>0.500930</td>\n      <td>-0.596620</td>\n      <td>...</td>\n      <td>-1.819600</td>\n      <td>-0.063443</td>\n      <td>4.387400</td>\n      <td>-0.129410</td>\n      <td>0.223820</td>\n      <td>0.775860</td>\n      <td>6.048675</td>\n      <td>10.905250</td>\n      <td>12.793000</td>\n      <td>0.000000</td>\n    </tr>\n    <tr>\n      <th>max</th>\n      <td>18.960000</td>\n      <td>20.713000</td>\n      <td>24.084000</td>\n      <td>5.450500</td>\n      <td>8.519100</td>\n      <td>20.054000</td>\n      <td>21.161000</td>\n      <td>25.015000</td>\n      <td>1.870100</td>\n      <td>1.525300</td>\n      <td>...</td>\n      <td>19.565000</td>\n      <td>21.914000</td>\n      <td>25.194000</td>\n      <td>1.162700</td>\n      <td>1.556500</td>\n      <td>2.750000</td>\n      <td>212.270000</td>\n      <td>334.980000</td>\n      <td>629.950000</td>\n      <td>12.000000</td>\n    </tr>\n  </tbody>\n</table>\n<p>8 rows × 24 columns</p>\n</div>"
     },
     "metadata": {},
     "execution_count": 135
    }
   ],
   "source": [
    "subject0_df.describe()"
   ]
  },
  {
   "cell_type": "code",
   "execution_count": 136,
   "metadata": {},
   "outputs": [
    {
     "output_type": "execute_result",
     "data": {
      "text/plain": "count    161280.000000\nmean          1.352356\nstd           2.981766\nmin           0.000000\n25%           0.000000\n50%           0.000000\n75%           0.000000\nmax          12.000000\nName: 23, dtype: float64"
     },
     "metadata": {},
     "execution_count": 136
    }
   ],
   "source": [
    "subject0_df[23].describe()"
   ]
  },
  {
   "cell_type": "code",
   "execution_count": 137,
   "metadata": {},
   "outputs": [
    {
     "output_type": "execute_result",
     "data": {
      "text/plain": "<matplotlib.axes._subplots.AxesSubplot at 0x199af0a36d8>"
     },
     "metadata": {},
     "execution_count": 137
    },
    {
     "output_type": "display_data",
     "data": {
      "text/plain": "<Figure size 432x288 with 1 Axes>",
      "image/svg+xml": "<?xml version=\"1.0\" encoding=\"utf-8\" standalone=\"no\"?>\r\n<!DOCTYPE svg PUBLIC \"-//W3C//DTD SVG 1.1//EN\"\r\n  \"http://www.w3.org/Graphics/SVG/1.1/DTD/svg11.dtd\">\r\n<!-- Created with matplotlib (https://matplotlib.org/) -->\r\n<svg height=\"252.018125pt\" version=\"1.1\" viewBox=\"0 0 387.456676 252.018125\" width=\"387.456676pt\" xmlns=\"http://www.w3.org/2000/svg\" xmlns:xlink=\"http://www.w3.org/1999/xlink\">\r\n <defs>\r\n  <style type=\"text/css\">\r\n*{stroke-linecap:butt;stroke-linejoin:round;}\r\n  </style>\r\n </defs>\r\n <g id=\"figure_1\">\r\n  <g id=\"patch_1\">\r\n   <path d=\"M -0 252.018125 \r\nL 387.456676 252.018125 \r\nL 387.456676 0 \r\nL -0 0 \r\nz\r\n\" style=\"fill:none;\"/>\r\n  </g>\r\n  <g id=\"axes_1\">\r\n   <g id=\"patch_2\">\r\n    <path d=\"M 26.925 228.14 \r\nL 361.725 228.14 \r\nL 361.725 10.7 \r\nL 26.925 10.7 \r\nz\r\n\" style=\"fill:#ffffff;\"/>\r\n   </g>\r\n   <g id=\"matplotlib.axis_1\">\r\n    <g id=\"xtick_1\">\r\n     <g id=\"line2d_1\">\r\n      <defs>\r\n       <path d=\"M 0 0 \r\nL 0 3.5 \r\n\" id=\"m2af15ac216\" style=\"stroke:#000000;stroke-width:0.8;\"/>\r\n      </defs>\r\n      <g>\r\n       <use style=\"stroke:#000000;stroke-width:0.8;\" x=\"56.010939\" xlink:href=\"#m2af15ac216\" y=\"228.14\"/>\r\n      </g>\r\n     </g>\r\n     <g id=\"text_1\">\r\n      <!-- 20000 -->\r\n      <defs>\r\n       <path d=\"M 19.1875 8.296875 \r\nL 53.609375 8.296875 \r\nL 53.609375 0 \r\nL 7.328125 0 \r\nL 7.328125 8.296875 \r\nQ 12.9375 14.109375 22.625 23.890625 \r\nQ 32.328125 33.6875 34.8125 36.53125 \r\nQ 39.546875 41.84375 41.421875 45.53125 \r\nQ 43.3125 49.21875 43.3125 52.78125 \r\nQ 43.3125 58.59375 39.234375 62.25 \r\nQ 35.15625 65.921875 28.609375 65.921875 \r\nQ 23.96875 65.921875 18.8125 64.3125 \r\nQ 13.671875 62.703125 7.8125 59.421875 \r\nL 7.8125 69.390625 \r\nQ 13.765625 71.78125 18.9375 73 \r\nQ 24.125 74.21875 28.421875 74.21875 \r\nQ 39.75 74.21875 46.484375 68.546875 \r\nQ 53.21875 62.890625 53.21875 53.421875 \r\nQ 53.21875 48.921875 51.53125 44.890625 \r\nQ 49.859375 40.875 45.40625 35.40625 \r\nQ 44.1875 33.984375 37.640625 27.21875 \r\nQ 31.109375 20.453125 19.1875 8.296875 \r\nz\r\n\" id=\"DejaVuSans-50\"/>\r\n       <path d=\"M 31.78125 66.40625 \r\nQ 24.171875 66.40625 20.328125 58.90625 \r\nQ 16.5 51.421875 16.5 36.375 \r\nQ 16.5 21.390625 20.328125 13.890625 \r\nQ 24.171875 6.390625 31.78125 6.390625 \r\nQ 39.453125 6.390625 43.28125 13.890625 \r\nQ 47.125 21.390625 47.125 36.375 \r\nQ 47.125 51.421875 43.28125 58.90625 \r\nQ 39.453125 66.40625 31.78125 66.40625 \r\nz\r\nM 31.78125 74.21875 \r\nQ 44.046875 74.21875 50.515625 64.515625 \r\nQ 56.984375 54.828125 56.984375 36.375 \r\nQ 56.984375 17.96875 50.515625 8.265625 \r\nQ 44.046875 -1.421875 31.78125 -1.421875 \r\nQ 19.53125 -1.421875 13.0625 8.265625 \r\nQ 6.59375 17.96875 6.59375 36.375 \r\nQ 6.59375 54.828125 13.0625 64.515625 \r\nQ 19.53125 74.21875 31.78125 74.21875 \r\nz\r\n\" id=\"DejaVuSans-48\"/>\r\n      </defs>\r\n      <g transform=\"translate(40.104689 242.738437)scale(0.1 -0.1)\">\r\n       <use xlink:href=\"#DejaVuSans-50\"/>\r\n       <use x=\"63.623047\" xlink:href=\"#DejaVuSans-48\"/>\r\n       <use x=\"127.246094\" xlink:href=\"#DejaVuSans-48\"/>\r\n       <use x=\"190.869141\" xlink:href=\"#DejaVuSans-48\"/>\r\n       <use x=\"254.492188\" xlink:href=\"#DejaVuSans-48\"/>\r\n      </g>\r\n     </g>\r\n    </g>\r\n    <g id=\"xtick_2\">\r\n     <g id=\"line2d_2\">\r\n      <g>\r\n       <use style=\"stroke:#000000;stroke-width:0.8;\" x=\"99.604973\" xlink:href=\"#m2af15ac216\" y=\"228.14\"/>\r\n      </g>\r\n     </g>\r\n     <g id=\"text_2\">\r\n      <!-- 40000 -->\r\n      <defs>\r\n       <path d=\"M 37.796875 64.3125 \r\nL 12.890625 25.390625 \r\nL 37.796875 25.390625 \r\nz\r\nM 35.203125 72.90625 \r\nL 47.609375 72.90625 \r\nL 47.609375 25.390625 \r\nL 58.015625 25.390625 \r\nL 58.015625 17.1875 \r\nL 47.609375 17.1875 \r\nL 47.609375 0 \r\nL 37.796875 0 \r\nL 37.796875 17.1875 \r\nL 4.890625 17.1875 \r\nL 4.890625 26.703125 \r\nz\r\n\" id=\"DejaVuSans-52\"/>\r\n      </defs>\r\n      <g transform=\"translate(83.698723 242.738437)scale(0.1 -0.1)\">\r\n       <use xlink:href=\"#DejaVuSans-52\"/>\r\n       <use x=\"63.623047\" xlink:href=\"#DejaVuSans-48\"/>\r\n       <use x=\"127.246094\" xlink:href=\"#DejaVuSans-48\"/>\r\n       <use x=\"190.869141\" xlink:href=\"#DejaVuSans-48\"/>\r\n       <use x=\"254.492188\" xlink:href=\"#DejaVuSans-48\"/>\r\n      </g>\r\n     </g>\r\n    </g>\r\n    <g id=\"xtick_3\">\r\n     <g id=\"line2d_3\">\r\n      <g>\r\n       <use style=\"stroke:#000000;stroke-width:0.8;\" x=\"143.199007\" xlink:href=\"#m2af15ac216\" y=\"228.14\"/>\r\n      </g>\r\n     </g>\r\n     <g id=\"text_3\">\r\n      <!-- 60000 -->\r\n      <defs>\r\n       <path d=\"M 33.015625 40.375 \r\nQ 26.375 40.375 22.484375 35.828125 \r\nQ 18.609375 31.296875 18.609375 23.390625 \r\nQ 18.609375 15.53125 22.484375 10.953125 \r\nQ 26.375 6.390625 33.015625 6.390625 \r\nQ 39.65625 6.390625 43.53125 10.953125 \r\nQ 47.40625 15.53125 47.40625 23.390625 \r\nQ 47.40625 31.296875 43.53125 35.828125 \r\nQ 39.65625 40.375 33.015625 40.375 \r\nz\r\nM 52.59375 71.296875 \r\nL 52.59375 62.3125 \r\nQ 48.875 64.0625 45.09375 64.984375 \r\nQ 41.3125 65.921875 37.59375 65.921875 \r\nQ 27.828125 65.921875 22.671875 59.328125 \r\nQ 17.53125 52.734375 16.796875 39.40625 \r\nQ 19.671875 43.65625 24.015625 45.921875 \r\nQ 28.375 48.1875 33.59375 48.1875 \r\nQ 44.578125 48.1875 50.953125 41.515625 \r\nQ 57.328125 34.859375 57.328125 23.390625 \r\nQ 57.328125 12.15625 50.6875 5.359375 \r\nQ 44.046875 -1.421875 33.015625 -1.421875 \r\nQ 20.359375 -1.421875 13.671875 8.265625 \r\nQ 6.984375 17.96875 6.984375 36.375 \r\nQ 6.984375 53.65625 15.1875 63.9375 \r\nQ 23.390625 74.21875 37.203125 74.21875 \r\nQ 40.921875 74.21875 44.703125 73.484375 \r\nQ 48.484375 72.75 52.59375 71.296875 \r\nz\r\n\" id=\"DejaVuSans-54\"/>\r\n      </defs>\r\n      <g transform=\"translate(127.292757 242.738437)scale(0.1 -0.1)\">\r\n       <use xlink:href=\"#DejaVuSans-54\"/>\r\n       <use x=\"63.623047\" xlink:href=\"#DejaVuSans-48\"/>\r\n       <use x=\"127.246094\" xlink:href=\"#DejaVuSans-48\"/>\r\n       <use x=\"190.869141\" xlink:href=\"#DejaVuSans-48\"/>\r\n       <use x=\"254.492188\" xlink:href=\"#DejaVuSans-48\"/>\r\n      </g>\r\n     </g>\r\n    </g>\r\n    <g id=\"xtick_4\">\r\n     <g id=\"line2d_4\">\r\n      <g>\r\n       <use style=\"stroke:#000000;stroke-width:0.8;\" x=\"186.793041\" xlink:href=\"#m2af15ac216\" y=\"228.14\"/>\r\n      </g>\r\n     </g>\r\n     <g id=\"text_4\">\r\n      <!-- 80000 -->\r\n      <defs>\r\n       <path d=\"M 31.78125 34.625 \r\nQ 24.75 34.625 20.71875 30.859375 \r\nQ 16.703125 27.09375 16.703125 20.515625 \r\nQ 16.703125 13.921875 20.71875 10.15625 \r\nQ 24.75 6.390625 31.78125 6.390625 \r\nQ 38.8125 6.390625 42.859375 10.171875 \r\nQ 46.921875 13.96875 46.921875 20.515625 \r\nQ 46.921875 27.09375 42.890625 30.859375 \r\nQ 38.875 34.625 31.78125 34.625 \r\nz\r\nM 21.921875 38.8125 \r\nQ 15.578125 40.375 12.03125 44.71875 \r\nQ 8.5 49.078125 8.5 55.328125 \r\nQ 8.5 64.0625 14.71875 69.140625 \r\nQ 20.953125 74.21875 31.78125 74.21875 \r\nQ 42.671875 74.21875 48.875 69.140625 \r\nQ 55.078125 64.0625 55.078125 55.328125 \r\nQ 55.078125 49.078125 51.53125 44.71875 \r\nQ 48 40.375 41.703125 38.8125 \r\nQ 48.828125 37.15625 52.796875 32.3125 \r\nQ 56.78125 27.484375 56.78125 20.515625 \r\nQ 56.78125 9.90625 50.3125 4.234375 \r\nQ 43.84375 -1.421875 31.78125 -1.421875 \r\nQ 19.734375 -1.421875 13.25 4.234375 \r\nQ 6.78125 9.90625 6.78125 20.515625 \r\nQ 6.78125 27.484375 10.78125 32.3125 \r\nQ 14.796875 37.15625 21.921875 38.8125 \r\nz\r\nM 18.3125 54.390625 \r\nQ 18.3125 48.734375 21.84375 45.5625 \r\nQ 25.390625 42.390625 31.78125 42.390625 \r\nQ 38.140625 42.390625 41.71875 45.5625 \r\nQ 45.3125 48.734375 45.3125 54.390625 \r\nQ 45.3125 60.0625 41.71875 63.234375 \r\nQ 38.140625 66.40625 31.78125 66.40625 \r\nQ 25.390625 66.40625 21.84375 63.234375 \r\nQ 18.3125 60.0625 18.3125 54.390625 \r\nz\r\n\" id=\"DejaVuSans-56\"/>\r\n      </defs>\r\n      <g transform=\"translate(170.886791 242.738437)scale(0.1 -0.1)\">\r\n       <use xlink:href=\"#DejaVuSans-56\"/>\r\n       <use x=\"63.623047\" xlink:href=\"#DejaVuSans-48\"/>\r\n       <use x=\"127.246094\" xlink:href=\"#DejaVuSans-48\"/>\r\n       <use x=\"190.869141\" xlink:href=\"#DejaVuSans-48\"/>\r\n       <use x=\"254.492188\" xlink:href=\"#DejaVuSans-48\"/>\r\n      </g>\r\n     </g>\r\n    </g>\r\n    <g id=\"xtick_5\">\r\n     <g id=\"line2d_5\">\r\n      <g>\r\n       <use style=\"stroke:#000000;stroke-width:0.8;\" x=\"230.387075\" xlink:href=\"#m2af15ac216\" y=\"228.14\"/>\r\n      </g>\r\n     </g>\r\n     <g id=\"text_5\">\r\n      <!-- 100000 -->\r\n      <defs>\r\n       <path d=\"M 12.40625 8.296875 \r\nL 28.515625 8.296875 \r\nL 28.515625 63.921875 \r\nL 10.984375 60.40625 \r\nL 10.984375 69.390625 \r\nL 28.421875 72.90625 \r\nL 38.28125 72.90625 \r\nL 38.28125 8.296875 \r\nL 54.390625 8.296875 \r\nL 54.390625 0 \r\nL 12.40625 0 \r\nz\r\n\" id=\"DejaVuSans-49\"/>\r\n      </defs>\r\n      <g transform=\"translate(211.299575 242.738437)scale(0.1 -0.1)\">\r\n       <use xlink:href=\"#DejaVuSans-49\"/>\r\n       <use x=\"63.623047\" xlink:href=\"#DejaVuSans-48\"/>\r\n       <use x=\"127.246094\" xlink:href=\"#DejaVuSans-48\"/>\r\n       <use x=\"190.869141\" xlink:href=\"#DejaVuSans-48\"/>\r\n       <use x=\"254.492188\" xlink:href=\"#DejaVuSans-48\"/>\r\n       <use x=\"318.115234\" xlink:href=\"#DejaVuSans-48\"/>\r\n      </g>\r\n     </g>\r\n    </g>\r\n    <g id=\"xtick_6\">\r\n     <g id=\"line2d_6\">\r\n      <g>\r\n       <use style=\"stroke:#000000;stroke-width:0.8;\" x=\"273.981108\" xlink:href=\"#m2af15ac216\" y=\"228.14\"/>\r\n      </g>\r\n     </g>\r\n     <g id=\"text_6\">\r\n      <!-- 120000 -->\r\n      <g transform=\"translate(254.893608 242.738437)scale(0.1 -0.1)\">\r\n       <use xlink:href=\"#DejaVuSans-49\"/>\r\n       <use x=\"63.623047\" xlink:href=\"#DejaVuSans-50\"/>\r\n       <use x=\"127.246094\" xlink:href=\"#DejaVuSans-48\"/>\r\n       <use x=\"190.869141\" xlink:href=\"#DejaVuSans-48\"/>\r\n       <use x=\"254.492188\" xlink:href=\"#DejaVuSans-48\"/>\r\n       <use x=\"318.115234\" xlink:href=\"#DejaVuSans-48\"/>\r\n      </g>\r\n     </g>\r\n    </g>\r\n    <g id=\"xtick_7\">\r\n     <g id=\"line2d_7\">\r\n      <g>\r\n       <use style=\"stroke:#000000;stroke-width:0.8;\" x=\"317.575142\" xlink:href=\"#m2af15ac216\" y=\"228.14\"/>\r\n      </g>\r\n     </g>\r\n     <g id=\"text_7\">\r\n      <!-- 140000 -->\r\n      <g transform=\"translate(298.487642 242.738437)scale(0.1 -0.1)\">\r\n       <use xlink:href=\"#DejaVuSans-49\"/>\r\n       <use x=\"63.623047\" xlink:href=\"#DejaVuSans-52\"/>\r\n       <use x=\"127.246094\" xlink:href=\"#DejaVuSans-48\"/>\r\n       <use x=\"190.869141\" xlink:href=\"#DejaVuSans-48\"/>\r\n       <use x=\"254.492188\" xlink:href=\"#DejaVuSans-48\"/>\r\n       <use x=\"318.115234\" xlink:href=\"#DejaVuSans-48\"/>\r\n      </g>\r\n     </g>\r\n    </g>\r\n    <g id=\"xtick_8\">\r\n     <g id=\"line2d_8\">\r\n      <g>\r\n       <use style=\"stroke:#000000;stroke-width:0.8;\" x=\"361.169176\" xlink:href=\"#m2af15ac216\" y=\"228.14\"/>\r\n      </g>\r\n     </g>\r\n     <g id=\"text_8\">\r\n      <!-- 160000 -->\r\n      <g transform=\"translate(342.081676 242.738437)scale(0.1 -0.1)\">\r\n       <use xlink:href=\"#DejaVuSans-49\"/>\r\n       <use x=\"63.623047\" xlink:href=\"#DejaVuSans-54\"/>\r\n       <use x=\"127.246094\" xlink:href=\"#DejaVuSans-48\"/>\r\n       <use x=\"190.869141\" xlink:href=\"#DejaVuSans-48\"/>\r\n       <use x=\"254.492188\" xlink:href=\"#DejaVuSans-48\"/>\r\n       <use x=\"318.115234\" xlink:href=\"#DejaVuSans-48\"/>\r\n      </g>\r\n     </g>\r\n    </g>\r\n   </g>\r\n   <g id=\"matplotlib.axis_2\">\r\n    <g id=\"ytick_1\">\r\n     <g id=\"line2d_9\">\r\n      <defs>\r\n       <path d=\"M 0 0 \r\nL -3.5 0 \r\n\" id=\"m8f604a5893\" style=\"stroke:#000000;stroke-width:0.8;\"/>\r\n      </defs>\r\n      <g>\r\n       <use style=\"stroke:#000000;stroke-width:0.8;\" x=\"26.925\" xlink:href=\"#m8f604a5893\" y=\"200.286116\"/>\r\n      </g>\r\n     </g>\r\n     <g id=\"text_9\">\r\n      <!-- 2 -->\r\n      <g transform=\"translate(13.5625 204.085334)scale(0.1 -0.1)\">\r\n       <use xlink:href=\"#DejaVuSans-50\"/>\r\n      </g>\r\n     </g>\r\n    </g>\r\n    <g id=\"ytick_2\">\r\n     <g id=\"line2d_10\">\r\n      <g>\r\n       <use style=\"stroke:#000000;stroke-width:0.8;\" x=\"26.925\" xlink:href=\"#m8f604a5893\" y=\"164.34562\"/>\r\n      </g>\r\n     </g>\r\n     <g id=\"text_10\">\r\n      <!-- 4 -->\r\n      <g transform=\"translate(13.5625 168.144839)scale(0.1 -0.1)\">\r\n       <use xlink:href=\"#DejaVuSans-52\"/>\r\n      </g>\r\n     </g>\r\n    </g>\r\n    <g id=\"ytick_3\">\r\n     <g id=\"line2d_11\">\r\n      <g>\r\n       <use style=\"stroke:#000000;stroke-width:0.8;\" x=\"26.925\" xlink:href=\"#m8f604a5893\" y=\"128.405124\"/>\r\n      </g>\r\n     </g>\r\n     <g id=\"text_11\">\r\n      <!-- 6 -->\r\n      <g transform=\"translate(13.5625 132.204343)scale(0.1 -0.1)\">\r\n       <use xlink:href=\"#DejaVuSans-54\"/>\r\n      </g>\r\n     </g>\r\n    </g>\r\n    <g id=\"ytick_4\">\r\n     <g id=\"line2d_12\">\r\n      <g>\r\n       <use style=\"stroke:#000000;stroke-width:0.8;\" x=\"26.925\" xlink:href=\"#m8f604a5893\" y=\"92.464628\"/>\r\n      </g>\r\n     </g>\r\n     <g id=\"text_12\">\r\n      <!-- 8 -->\r\n      <g transform=\"translate(13.5625 96.263847)scale(0.1 -0.1)\">\r\n       <use xlink:href=\"#DejaVuSans-56\"/>\r\n      </g>\r\n     </g>\r\n    </g>\r\n    <g id=\"ytick_5\">\r\n     <g id=\"line2d_13\">\r\n      <g>\r\n       <use style=\"stroke:#000000;stroke-width:0.8;\" x=\"26.925\" xlink:href=\"#m8f604a5893\" y=\"56.524132\"/>\r\n      </g>\r\n     </g>\r\n     <g id=\"text_13\">\r\n      <!-- 10 -->\r\n      <g transform=\"translate(7.2 60.323351)scale(0.1 -0.1)\">\r\n       <use xlink:href=\"#DejaVuSans-49\"/>\r\n       <use x=\"63.623047\" xlink:href=\"#DejaVuSans-48\"/>\r\n      </g>\r\n     </g>\r\n    </g>\r\n    <g id=\"ytick_6\">\r\n     <g id=\"line2d_14\">\r\n      <g>\r\n       <use style=\"stroke:#000000;stroke-width:0.8;\" x=\"26.925\" xlink:href=\"#m8f604a5893\" y=\"20.583636\"/>\r\n      </g>\r\n     </g>\r\n     <g id=\"text_14\">\r\n      <!-- 12 -->\r\n      <g transform=\"translate(7.2 24.382855)scale(0.1 -0.1)\">\r\n       <use xlink:href=\"#DejaVuSans-49\"/>\r\n       <use x=\"63.623047\" xlink:href=\"#DejaVuSans-50\"/>\r\n      </g>\r\n     </g>\r\n    </g>\r\n   </g>\r\n   <g id=\"line2d_15\">\r\n    <path clip-path=\"url(#p8bd36ff7e0)\" d=\"M 26.925 218.256364 \r\nL 33.618864 218.256364 \r\nL 40.434791 200.286116 \r\nL 47.010951 200.286116 \r\nL 53.826878 182.315868 \r\nL 60.403038 182.315868 \r\nL 73.934626 164.34562 \r\nL 80.491169 164.34562 \r\nL 94.00314 128.405124 \r\nL 100.5793 128.405124 \r\nL 127.564007 110.434876 \r\nL 134.059518 110.434876 \r\nL 146.470739 92.464628 \r\nL 153.70081 92.464628 \r\nL 178.442604 74.49438 \r\nL 184.949013 74.49438 \r\nL 204.533633 56.524132 \r\nL 211.064019 56.524132 \r\nL 227.956707 38.553884 \r\nL 234.500172 38.553884 \r\nL 259.802149 20.583636 \r\nL 261.953515 20.583636 \r\nL 355.168457 146.375372 \r\nL 361.725 146.375372 \r\nL 361.725 146.375372 \r\n\" style=\"fill:none;stroke:#1f77b4;stroke-linecap:square;stroke-width:1.5;\"/>\r\n   </g>\r\n   <g id=\"patch_3\">\r\n    <path d=\"M 26.925 228.14 \r\nL 26.925 10.7 \r\n\" style=\"fill:none;stroke:#000000;stroke-linecap:square;stroke-linejoin:miter;stroke-width:0.8;\"/>\r\n   </g>\r\n   <g id=\"patch_4\">\r\n    <path d=\"M 361.725 228.14 \r\nL 361.725 10.7 \r\n\" style=\"fill:none;stroke:#000000;stroke-linecap:square;stroke-linejoin:miter;stroke-width:0.8;\"/>\r\n   </g>\r\n   <g id=\"patch_5\">\r\n    <path d=\"M 26.925 228.14 \r\nL 361.725 228.14 \r\n\" style=\"fill:none;stroke:#000000;stroke-linecap:square;stroke-linejoin:miter;stroke-width:0.8;\"/>\r\n   </g>\r\n   <g id=\"patch_6\">\r\n    <path d=\"M 26.925 10.7 \r\nL 361.725 10.7 \r\n\" style=\"fill:none;stroke:#000000;stroke-linecap:square;stroke-linejoin:miter;stroke-width:0.8;\"/>\r\n   </g>\r\n  </g>\r\n </g>\r\n <defs>\r\n  <clipPath id=\"p8bd36ff7e0\">\r\n   <rect height=\"217.44\" width=\"334.8\" x=\"26.925\" y=\"10.7\"/>\r\n  </clipPath>\r\n </defs>\r\n</svg>\r\n",
      "image/png": "[encoded data removed]"
     },
     "metadata": {
      "needs_background": "light"
     }
    }
   ],
   "source": [
    "# subject0_df[23][subject0_df[23] != 0]\n",
    "subject0_df[23][subject0_df[23] != 0].plot()"
   ]
  },
  {
   "cell_type": "code",
   "execution_count": 138,
   "metadata": {},
   "outputs": [
    {
     "output_type": "execute_result",
     "data": {
      "text/plain": "35174"
     },
     "metadata": {},
     "execution_count": 138
    }
   ],
   "source": [
    "# subject0_df[23][subject0_df[23] != 0].head()\n",
    "subject0_df[23][subject0_df[23] != 0].count()\n",
    "#35174 non-zero values meaning\n",
    "# 0 is null class. There is no activity going on?"
   ]
  },
  {
   "cell_type": "code",
   "execution_count": 139,
   "metadata": {},
   "outputs": [
    {
     "output_type": "execute_result",
     "data": {
      "text/plain": "3072"
     },
     "metadata": {},
     "execution_count": 139
    }
   ],
   "source": [
    "# subject0_df[23][subject0_df[23] == 4].head()\n",
    "subject0_df[23][subject0_df[23] == 4].count() #3072"
   ]
  },
  {
   "cell_type": "code",
   "execution_count": 140,
   "metadata": {},
   "outputs": [
    {
     "output_type": "execute_result",
     "data": {
      "text/plain": "3072"
     },
     "metadata": {},
     "execution_count": 140
    }
   ],
   "source": [
    "# subject0_df[23][subject0_df[23] == 5].head()\n",
    "subject0_df[23][subject0_df[23] == 5].count() #3072"
   ]
  },
  {
   "cell_type": "code",
   "execution_count": 141,
   "metadata": {},
   "outputs": [
    {
     "output_type": "execute_result",
     "data": {
      "text/plain": "9.333333333333334"
     },
     "metadata": {},
     "execution_count": 141
    }
   ],
   "source": [
    "# 161280 (rows) / 1440 / 12 = 9.333333333333334\n",
    "subject0_df.shape[0] / 1440 / 12"
   ]
  },
  {
   "cell_type": "markdown",
   "metadata": {
    "tags": [
     "outputPrepend",
     "outputPrepend",
     "outputPrepend",
     "outputPrepend",
     "outputPrepend",
     "outputPrepend",
     "outputPrepend",
     "outputPrepend",
     "outputPrepend",
     "outputPrepend",
     "outputPrepend",
     "outputPrepend",
     "outputPrepend",
     "outputPrepend",
     "outputPrepend",
     "outputPrepend",
     "outputPrepend",
     "outputPrepend",
     "outputPrepend",
     "outputPrepend",
     "outputPrepend",
     "outputPrepend",
     "outputPrepend",
     "outputPrepend",
     "outputPrepend",
     "outputPrepend",
     "outputPrepend",
     "outputPrepend",
     "outputPrepend",
     "outputPrepend",
     "outputPrepend",
     "outputPrepend",
     "outputPrepend",
     "outputPrepend",
     "outputPrepend",
     "outputPrepend",
     "outputPrepend",
     "outputPrepend",
     "outputPrepend",
     "outputPrepend",
     "outputPrepend",
     "outputPrepend",
     "outputPrepend",
     "outputPrepend",
     "outputPrepend",
     "outputPrepend",
     "outputPrepend",
     "outputPrepend",
     "outputPrepend",
     "outputPrepend",
     "outputPrepend",
     "outputPrepend",
     "outputPrepend",
     "outputPrepend",
     "outputPrepend",
     "outputPrepend",
     "outputPrepend",
     "outputPrepend",
     "outputPrepend",
     "outputPrepend",
     "outputPrepend",
     "outputPrepend",
     "outputPrepend",
     "outputPrepend",
     "outputPrepend",
     "outputPrepend",
     "outputPrepend",
     "outputPrepend",
     "outputPrepend",
     "outputPrepend",
     "outputPrepend",
     "outputPrepend",
     "outputPrepend",
     "outputPrepend",
     "outputPrepend",
     "outputPrepend",
     "outputPrepend",
     "outputPrepend",
     "outputPrepend",
     "outputPrepend",
     "outputPrepend",
     "outputPrepend",
     "outputPrepend",
     "outputPrepend",
     "outputPrepend",
     "outputPrepend",
     "outputPrepend",
     "outputPrepend",
     "outputPrepend",
     "outputPrepend",
     "outputPrepend",
     "outputPrepend",
     "outputPrepend",
     "outputPrepend",
     "outputPrepend",
     "outputPrepend",
     "outputPrepend",
     "outputPrepend",
     "outputPrepend",
     "outputPrepend",
     "outputPrepend",
     "outputPrepend",
     "outputPrepend",
     "outputPrepend",
     "outputPrepend",
     "outputPrepend",
     "outputPrepend",
     "outputPrepend",
     "outputPrepend",
     "outputPrepend",
     "outputPrepend",
     "outputPrepend",
     "outputPrepend",
     "outputPrepend",
     "outputPrepend",
     "outputPrepend",
     "outputPrepend",
     "outputPrepend",
     "outputPrepend",
     "outputPrepend",
     "outputPrepend",
     "outputPrepend",
     "outputPrepend",
     "outputPrepend",
     "outputPrepend",
     "outputPrepend",
     "outputPrepend",
     "outputPrepend",
     "outputPrepend",
     "outputPrepend",
     "outputPrepend",
     "outputPrepend",
     "outputPrepend",
     "outputPrepend",
     "outputPrepend",
     "outputPrepend",
     "outputPrepend",
     "outputPrepend",
     "outputPrepend",
     "outputPrepend",
     "outputPrepend",
     "outputPrepend",
     "outputPrepend",
     "outputPrepend",
     "outputPrepend",
     "outputPrepend",
     "outputPrepend",
     "outputPrepend",
     "outputPrepend",
     "outputPrepend",
     "outputPrepend",
     "outputPrepend",
     "outputPrepend",
     "outputPrepend",
     "outputPrepend",
     "outputPrepend",
     "outputPrepend",
     "outputPrepend",
     "outputPrepend",
     "outputPrepend",
     "outputPrepend",
     "outputPrepend",
     "outputPrepend",
     "outputPrepend",
     "outputPrepend",
     "outputPrepend",
     "outputPrepend",
     "outputPrepend",
     "outputPrepend",
     "outputPrepend",
     "outputPrepend",
     "outputPrepend",
     "outputPrepend",
     "outputPrepend",
     "outputPrepend",
     "outputPrepend",
     "outputPrepend",
     "outputPrepend",
     "outputPrepend",
     "outputPrepend",
     "outputPrepend",
     "outputPrepend",
     "outputPrepend",
     "outputPrepend",
     "outputPrepend",
     "outputPrepend",
     "outputPrepend",
     "outputPrepend",
     "outputPrepend",
     "outputPrepend",
     "outputPrepend",
     "outputPrepend",
     "outputPrepend"
    ]
   },
   "source": [
    "10 people\n",
    "\n",
    "12 activities\n",
    "\n",
    "24th column (ie column 23 in 0-23) is activity set and there are 12 activities\n",
    "\n",
    "0 where there is no activity\n",
    "\n",
    "4 is for walking for example\n",
    "\n"
   ]
  },
  {
   "cell_type": "code",
   "execution_count": 145,
   "metadata": {},
   "outputs": [
    {
     "output_type": "execute_result",
     "data": {
      "text/plain": "36864"
     },
     "metadata": {},
     "execution_count": 145
    }
   ],
   "source": [
    "3072 * 12 #= 36864 activity data rest is 0"
   ]
  },
  {
   "cell_type": "code",
   "execution_count": 143,
   "metadata": {},
   "outputs": [],
   "source": [
    "# "
   ]
  }
 ]
}
