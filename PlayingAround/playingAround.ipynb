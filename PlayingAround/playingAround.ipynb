{
 "cells": [
  {
   "cell_type": "code",
   "execution_count": 1,
   "metadata": {},
   "outputs": [],
   "source": [
    "import helper_functions\n"
   ]
  },
  {
   "cell_type": "code",
   "execution_count": 2,
   "metadata": {},
   "outputs": [],
   "source": [
    "lst = helper_functions.mhealth_get_dataset()"
   ]
  },
  {
   "cell_type": "code",
   "execution_count": 3,
   "metadata": {},
   "outputs": [],
   "source": [
    "import pandas as pd\n",
    "\n",
    "subjects = pd.DataFrame(lst)"
   ]
  },
  {
   "cell_type": "code",
   "execution_count": 4,
   "metadata": {},
   "outputs": [
    {
     "output_type": "execute_result",
     "data": {
      "text/plain": "   id                                               data  \\\n0   0  [[-9.8184, 0.009971, 0.29563, 0.0041863, 0.004...   \n1   1  [[-9.5767, -1.4661, -0.34247, -0.087912, 0.037...   \n2   2  [[-2.123, 2.1088, -8.9576, -0.10884, -0.44793,...   \n3   3  [[-9.6997, -0.87525, -0.96298, -0.029304, -0.0...   \n4   4  [[-9.4674, 0.13721, 1.0545, 0.23862, -0.03349,...   \n5   5  [[-9.2997, -0.671, 2.2449, 0.03349, 0.025118, ...   \n6   6  [[-9.5409, -1.2392, -0.77468, -0.083726, -0.05...   \n7   7  [[-8.3532, 2.5062, -2.406, -1.821, -1.1889, 0....   \n8   8  [[-9.1319, 2.0514, -0.13116, 0.083726, -0.0418...   \n9   9  [[-9.8646, 0.2986, 1.69, -0.25955, -0.14652, 0...   \n\n                          file_location  \n0   ./mhealth-data/mHealth_subject1.log  \n1   ./mhealth-data/mHealth_subject9.log  \n2   ./mhealth-data/mHealth_subject4.log  \n3  ./mhealth-data/mHealth_subject10.log  \n4   ./mhealth-data/mHealth_subject3.log  \n5   ./mhealth-data/mHealth_subject8.log  \n6   ./mhealth-data/mHealth_subject7.log  \n7   ./mhealth-data/mHealth_subject5.log  \n8   ./mhealth-data/mHealth_subject6.log  \n9   ./mhealth-data/mHealth_subject2.log  ",
      "text/html": "<div>\n<style scoped>\n    .dataframe tbody tr th:only-of-type {\n        vertical-align: middle;\n    }\n\n    .dataframe tbody tr th {\n        vertical-align: top;\n    }\n\n    .dataframe thead th {\n        text-align: right;\n    }\n</style>\n<table border=\"1\" class=\"dataframe\">\n  <thead>\n    <tr style=\"text-align: right;\">\n      <th></th>\n      <th>id</th>\n      <th>data</th>\n      <th>file_location</th>\n    </tr>\n  </thead>\n  <tbody>\n    <tr>\n      <th>0</th>\n      <td>0</td>\n      <td>[[-9.8184, 0.009971, 0.29563, 0.0041863, 0.004...</td>\n      <td>./mhealth-data/mHealth_subject1.log</td>\n    </tr>\n    <tr>\n      <th>1</th>\n      <td>1</td>\n      <td>[[-9.5767, -1.4661, -0.34247, -0.087912, 0.037...</td>\n      <td>./mhealth-data/mHealth_subject9.log</td>\n    </tr>\n    <tr>\n      <th>2</th>\n      <td>2</td>\n      <td>[[-2.123, 2.1088, -8.9576, -0.10884, -0.44793,...</td>\n      <td>./mhealth-data/mHealth_subject4.log</td>\n    </tr>\n    <tr>\n      <th>3</th>\n      <td>3</td>\n      <td>[[-9.6997, -0.87525, -0.96298, -0.029304, -0.0...</td>\n      <td>./mhealth-data/mHealth_subject10.log</td>\n    </tr>\n    <tr>\n      <th>4</th>\n      <td>4</td>\n      <td>[[-9.4674, 0.13721, 1.0545, 0.23862, -0.03349,...</td>\n      <td>./mhealth-data/mHealth_subject3.log</td>\n    </tr>\n    <tr>\n      <th>5</th>\n      <td>5</td>\n      <td>[[-9.2997, -0.671, 2.2449, 0.03349, 0.025118, ...</td>\n      <td>./mhealth-data/mHealth_subject8.log</td>\n    </tr>\n    <tr>\n      <th>6</th>\n      <td>6</td>\n      <td>[[-9.5409, -1.2392, -0.77468, -0.083726, -0.05...</td>\n      <td>./mhealth-data/mHealth_subject7.log</td>\n    </tr>\n    <tr>\n      <th>7</th>\n      <td>7</td>\n      <td>[[-8.3532, 2.5062, -2.406, -1.821, -1.1889, 0....</td>\n      <td>./mhealth-data/mHealth_subject5.log</td>\n    </tr>\n    <tr>\n      <th>8</th>\n      <td>8</td>\n      <td>[[-9.1319, 2.0514, -0.13116, 0.083726, -0.0418...</td>\n      <td>./mhealth-data/mHealth_subject6.log</td>\n    </tr>\n    <tr>\n      <th>9</th>\n      <td>9</td>\n      <td>[[-9.8646, 0.2986, 1.69, -0.25955, -0.14652, 0...</td>\n      <td>./mhealth-data/mHealth_subject2.log</td>\n    </tr>\n  </tbody>\n</table>\n</div>"
     },
     "metadata": {},
     "execution_count": 4
    }
   ],
   "source": [
    "subjects"
   ]
  },
  {
   "cell_type": "code",
   "execution_count": 5,
   "metadata": {},
   "outputs": [
    {
     "output_type": "stream",
     "name": "stdout",
     "text": "<class 'pandas.core.frame.DataFrame'>\nRangeIndex: 10 entries, 0 to 9\nData columns (total 3 columns):\n #   Column         Non-Null Count  Dtype \n---  ------         --------------  ----- \n 0   id             10 non-null     int64 \n 1   data           10 non-null     object\n 2   file_location  10 non-null     object\ndtypes: int64(1), object(2)\nmemory usage: 368.0+ bytes\n"
    }
   ],
   "source": [
    "subjects.info()"
   ]
  },
  {
   "cell_type": "code",
   "execution_count": 6,
   "metadata": {},
   "outputs": [],
   "source": [
    "# subjects.data\n",
    "# subjects.data[0]\n",
    "# len(subjects.data[0])\n",
    "# len(subject0) # number of rows \n",
    "# len(subject0[0]) # numbers of columns\n",
    "# for i in range(len(subjects.data[0])):\n",
    "#     print(len(subjects.data[0][i]))\n",
    "\n",
    "# 10 subjects\n",
    "# Each subject has data which is a 2D list of length 161,280\n",
    "# Every object in the 2D list is an list of length 24\n",
    "# Getting first subjects data (2D list)\n",
    "\n",
    "subject0 = subjects.data[0]"
   ]
  },
  {
   "cell_type": "code",
   "execution_count": 7,
   "metadata": {},
   "outputs": [
    {
     "output_type": "execute_result",
     "data": {
      "text/plain": "(161280, 24)"
     },
     "metadata": {},
     "execution_count": 7
    }
   ],
   "source": [
    "#Converting to DataFrame\n",
    "subject0_df = pd.DataFrame(subject0)\n",
    "subject0_df.shape # 161280 rows × 24 columns"
   ]
  },
  {
   "cell_type": "code",
   "execution_count": 8,
   "metadata": {},
   "outputs": [
    {
     "output_type": "execute_result",
     "data": {
      "text/plain": "       0         1        2         3         4       5       6        7   \\\n0 -9.8184  0.009971  0.29563  0.004186  0.004186  2.1849 -9.6967  0.63077   \n1 -9.8489  0.524040  0.37348  0.004186  0.016745  2.3876 -9.5080  0.68389   \n2 -9.6602  0.181850  0.43742  0.016745  0.037677  2.4086 -9.5674  0.68113   \n3 -9.6507  0.214220  0.24033  0.079540  0.117220  2.1814 -9.4301  0.55031   \n4 -9.7030  0.303890  0.31156  0.221870  0.205130  2.4173 -9.3889  0.71098   \n\n         8        9   ...      14      15        16       17      18  \\\n0  0.103900 -0.84053  ... -8.6499 -4.5781  0.187760 -0.44902 -1.0103   \n1  0.085343 -0.83865  ... -8.6275 -4.3198  0.023595 -0.44902 -1.0103   \n2  0.085343 -0.83865  ... -8.5055 -4.2772  0.275720 -0.44902 -1.0103   \n3  0.085343 -0.83865  ... -8.6279 -4.3163  0.367520 -0.45686 -1.0082   \n4  0.085343 -0.83865  ... -8.7008 -4.1459  0.407290 -0.45686 -1.0082   \n\n         19       20        21        22   23  \n0  0.034483 -2.35000 -1.610200 -0.030899  0.0  \n1  0.034483 -2.16320 -0.882540  0.326570  0.0  \n2  0.034483 -1.61750 -0.165620 -0.030693  0.0  \n3  0.025862 -1.07710  0.006945 -0.382620  0.0  \n4  0.025862 -0.53684  0.175900 -1.095500  0.0  \n\n[5 rows x 24 columns]",
      "text/html": "<div>\n<style scoped>\n    .dataframe tbody tr th:only-of-type {\n        vertical-align: middle;\n    }\n\n    .dataframe tbody tr th {\n        vertical-align: top;\n    }\n\n    .dataframe thead th {\n        text-align: right;\n    }\n</style>\n<table border=\"1\" class=\"dataframe\">\n  <thead>\n    <tr style=\"text-align: right;\">\n      <th></th>\n      <th>0</th>\n      <th>1</th>\n      <th>2</th>\n      <th>3</th>\n      <th>4</th>\n      <th>5</th>\n      <th>6</th>\n      <th>7</th>\n      <th>8</th>\n      <th>9</th>\n      <th>...</th>\n      <th>14</th>\n      <th>15</th>\n      <th>16</th>\n      <th>17</th>\n      <th>18</th>\n      <th>19</th>\n      <th>20</th>\n      <th>21</th>\n      <th>22</th>\n      <th>23</th>\n    </tr>\n  </thead>\n  <tbody>\n    <tr>\n      <th>0</th>\n      <td>-9.8184</td>\n      <td>0.009971</td>\n      <td>0.29563</td>\n      <td>0.004186</td>\n      <td>0.004186</td>\n      <td>2.1849</td>\n      <td>-9.6967</td>\n      <td>0.63077</td>\n      <td>0.103900</td>\n      <td>-0.84053</td>\n      <td>...</td>\n      <td>-8.6499</td>\n      <td>-4.5781</td>\n      <td>0.187760</td>\n      <td>-0.44902</td>\n      <td>-1.0103</td>\n      <td>0.034483</td>\n      <td>-2.35000</td>\n      <td>-1.610200</td>\n      <td>-0.030899</td>\n      <td>0.0</td>\n    </tr>\n    <tr>\n      <th>1</th>\n      <td>-9.8489</td>\n      <td>0.524040</td>\n      <td>0.37348</td>\n      <td>0.004186</td>\n      <td>0.016745</td>\n      <td>2.3876</td>\n      <td>-9.5080</td>\n      <td>0.68389</td>\n      <td>0.085343</td>\n      <td>-0.83865</td>\n      <td>...</td>\n      <td>-8.6275</td>\n      <td>-4.3198</td>\n      <td>0.023595</td>\n      <td>-0.44902</td>\n      <td>-1.0103</td>\n      <td>0.034483</td>\n      <td>-2.16320</td>\n      <td>-0.882540</td>\n      <td>0.326570</td>\n      <td>0.0</td>\n    </tr>\n    <tr>\n      <th>2</th>\n      <td>-9.6602</td>\n      <td>0.181850</td>\n      <td>0.43742</td>\n      <td>0.016745</td>\n      <td>0.037677</td>\n      <td>2.4086</td>\n      <td>-9.5674</td>\n      <td>0.68113</td>\n      <td>0.085343</td>\n      <td>-0.83865</td>\n      <td>...</td>\n      <td>-8.5055</td>\n      <td>-4.2772</td>\n      <td>0.275720</td>\n      <td>-0.44902</td>\n      <td>-1.0103</td>\n      <td>0.034483</td>\n      <td>-1.61750</td>\n      <td>-0.165620</td>\n      <td>-0.030693</td>\n      <td>0.0</td>\n    </tr>\n    <tr>\n      <th>3</th>\n      <td>-9.6507</td>\n      <td>0.214220</td>\n      <td>0.24033</td>\n      <td>0.079540</td>\n      <td>0.117220</td>\n      <td>2.1814</td>\n      <td>-9.4301</td>\n      <td>0.55031</td>\n      <td>0.085343</td>\n      <td>-0.83865</td>\n      <td>...</td>\n      <td>-8.6279</td>\n      <td>-4.3163</td>\n      <td>0.367520</td>\n      <td>-0.45686</td>\n      <td>-1.0082</td>\n      <td>0.025862</td>\n      <td>-1.07710</td>\n      <td>0.006945</td>\n      <td>-0.382620</td>\n      <td>0.0</td>\n    </tr>\n    <tr>\n      <th>4</th>\n      <td>-9.7030</td>\n      <td>0.303890</td>\n      <td>0.31156</td>\n      <td>0.221870</td>\n      <td>0.205130</td>\n      <td>2.4173</td>\n      <td>-9.3889</td>\n      <td>0.71098</td>\n      <td>0.085343</td>\n      <td>-0.83865</td>\n      <td>...</td>\n      <td>-8.7008</td>\n      <td>-4.1459</td>\n      <td>0.407290</td>\n      <td>-0.45686</td>\n      <td>-1.0082</td>\n      <td>0.025862</td>\n      <td>-0.53684</td>\n      <td>0.175900</td>\n      <td>-1.095500</td>\n      <td>0.0</td>\n    </tr>\n  </tbody>\n</table>\n<p>5 rows × 24 columns</p>\n</div>"
     },
     "metadata": {},
     "execution_count": 8
    }
   ],
   "source": [
    "# Outputting first x rows\n",
    "subject0_df.head()"
   ]
  },
  {
   "cell_type": "code",
   "execution_count": 9,
   "metadata": {},
   "outputs": [
    {
     "output_type": "execute_result",
     "data": {
      "text/plain": "                  0              1              2              3   \\\ncount  161280.000000  161280.000000  161280.000000  161280.000000   \nmean       -8.737671       0.186275      -0.645707      -0.007960   \nstd         3.806288       1.453274       3.740042       0.504334   \nmin       -22.303000     -17.430000     -17.906000      -7.321800   \n25%        -9.832900      -0.380693      -2.824350      -0.188380   \n50%        -9.330700       0.252830      -0.316040      -0.025118   \n75%        -8.020800       0.770090       1.665425       0.154890   \nmax        18.960000      20.713000      24.084000       5.450500   \n\n                  4              5              6              7   \\\ncount  161280.000000  161280.000000  161280.000000  161280.000000   \nmean       -0.035226       1.229914      -9.667029      -1.650613   \nstd         0.643813       4.671081       4.064311       5.030605   \nmin        -8.619600     -22.075000     -19.619000     -19.373000   \n25%        -0.205130       0.095848     -10.066000      -3.288900   \n50%        -0.025118       1.785900      -9.570500      -0.711750   \n75%         0.163270       2.643100      -9.025600       0.649125   \nmax         8.519100      20.054000      21.161000      25.015000   \n\n                  8              9   ...             14             15  \\\ncount  161280.000000  161280.000000  ...  161280.000000  161280.000000   \nmean        0.010649      -0.663745  ...      -4.178516      -4.873407   \nstd         0.495378       0.322115  ...       4.316094       6.294977   \nmin        -1.549200      -2.189500  ...     -22.173000     -18.932000   \n25%        -0.372910      -0.848030  ...      -6.267425      -9.271700   \n50%        -0.161410      -0.741090  ...      -3.572100      -7.269950   \n75%         0.500930      -0.596620  ...      -1.819600      -0.063443   \nmax         1.870100       1.525300  ...      19.565000      21.914000   \n\n                  16             17             18             19  \\\ncount  161280.000000  161280.000000  161280.000000  161280.000000   \nmean        2.174713      -0.405350      -0.307315       0.312170   \nstd         3.620740       0.482499       0.657173       0.537174   \nmin       -18.228000      -1.702000      -2.164300      -1.234900   \n25%         0.170480      -0.758820      -0.767970      -0.163790   \n50%         1.478000      -0.505880      -0.587270       0.400860   \n75%         4.387400      -0.129410       0.223820       0.775860   \nmax        25.194000       1.162700       1.556500       2.750000   \n\n                  20             21             22             23  \ncount  161280.000000  161280.000000  161280.000000  161280.000000  \nmean        0.491517       0.550921      -0.231137       1.352356  \nstd        26.486971      32.263002      62.555109       2.981766  \nmin      -268.690000    -363.900000    -697.160000       0.000000  \n25%        -5.458975     -10.782000     -13.399000       0.000000  \n50%         0.362590       0.352170      -0.369920       0.000000  \n75%         6.048675      10.905250      12.793000       0.000000  \nmax       212.270000     334.980000     629.950000      12.000000  \n\n[8 rows x 24 columns]",
      "text/html": "<div>\n<style scoped>\n    .dataframe tbody tr th:only-of-type {\n        vertical-align: middle;\n    }\n\n    .dataframe tbody tr th {\n        vertical-align: top;\n    }\n\n    .dataframe thead th {\n        text-align: right;\n    }\n</style>\n<table border=\"1\" class=\"dataframe\">\n  <thead>\n    <tr style=\"text-align: right;\">\n      <th></th>\n      <th>0</th>\n      <th>1</th>\n      <th>2</th>\n      <th>3</th>\n      <th>4</th>\n      <th>5</th>\n      <th>6</th>\n      <th>7</th>\n      <th>8</th>\n      <th>9</th>\n      <th>...</th>\n      <th>14</th>\n      <th>15</th>\n      <th>16</th>\n      <th>17</th>\n      <th>18</th>\n      <th>19</th>\n      <th>20</th>\n      <th>21</th>\n      <th>22</th>\n      <th>23</th>\n    </tr>\n  </thead>\n  <tbody>\n    <tr>\n      <th>count</th>\n      <td>161280.000000</td>\n      <td>161280.000000</td>\n      <td>161280.000000</td>\n      <td>161280.000000</td>\n      <td>161280.000000</td>\n      <td>161280.000000</td>\n      <td>161280.000000</td>\n      <td>161280.000000</td>\n      <td>161280.000000</td>\n      <td>161280.000000</td>\n      <td>...</td>\n      <td>161280.000000</td>\n      <td>161280.000000</td>\n      <td>161280.000000</td>\n      <td>161280.000000</td>\n      <td>161280.000000</td>\n      <td>161280.000000</td>\n      <td>161280.000000</td>\n      <td>161280.000000</td>\n      <td>161280.000000</td>\n      <td>161280.000000</td>\n    </tr>\n    <tr>\n      <th>mean</th>\n      <td>-8.737671</td>\n      <td>0.186275</td>\n      <td>-0.645707</td>\n      <td>-0.007960</td>\n      <td>-0.035226</td>\n      <td>1.229914</td>\n      <td>-9.667029</td>\n      <td>-1.650613</td>\n      <td>0.010649</td>\n      <td>-0.663745</td>\n      <td>...</td>\n      <td>-4.178516</td>\n      <td>-4.873407</td>\n      <td>2.174713</td>\n      <td>-0.405350</td>\n      <td>-0.307315</td>\n      <td>0.312170</td>\n      <td>0.491517</td>\n      <td>0.550921</td>\n      <td>-0.231137</td>\n      <td>1.352356</td>\n    </tr>\n    <tr>\n      <th>std</th>\n      <td>3.806288</td>\n      <td>1.453274</td>\n      <td>3.740042</td>\n      <td>0.504334</td>\n      <td>0.643813</td>\n      <td>4.671081</td>\n      <td>4.064311</td>\n      <td>5.030605</td>\n      <td>0.495378</td>\n      <td>0.322115</td>\n      <td>...</td>\n      <td>4.316094</td>\n      <td>6.294977</td>\n      <td>3.620740</td>\n      <td>0.482499</td>\n      <td>0.657173</td>\n      <td>0.537174</td>\n      <td>26.486971</td>\n      <td>32.263002</td>\n      <td>62.555109</td>\n      <td>2.981766</td>\n    </tr>\n    <tr>\n      <th>min</th>\n      <td>-22.303000</td>\n      <td>-17.430000</td>\n      <td>-17.906000</td>\n      <td>-7.321800</td>\n      <td>-8.619600</td>\n      <td>-22.075000</td>\n      <td>-19.619000</td>\n      <td>-19.373000</td>\n      <td>-1.549200</td>\n      <td>-2.189500</td>\n      <td>...</td>\n      <td>-22.173000</td>\n      <td>-18.932000</td>\n      <td>-18.228000</td>\n      <td>-1.702000</td>\n      <td>-2.164300</td>\n      <td>-1.234900</td>\n      <td>-268.690000</td>\n      <td>-363.900000</td>\n      <td>-697.160000</td>\n      <td>0.000000</td>\n    </tr>\n    <tr>\n      <th>25%</th>\n      <td>-9.832900</td>\n      <td>-0.380693</td>\n      <td>-2.824350</td>\n      <td>-0.188380</td>\n      <td>-0.205130</td>\n      <td>0.095848</td>\n      <td>-10.066000</td>\n      <td>-3.288900</td>\n      <td>-0.372910</td>\n      <td>-0.848030</td>\n      <td>...</td>\n      <td>-6.267425</td>\n      <td>-9.271700</td>\n      <td>0.170480</td>\n      <td>-0.758820</td>\n      <td>-0.767970</td>\n      <td>-0.163790</td>\n      <td>-5.458975</td>\n      <td>-10.782000</td>\n      <td>-13.399000</td>\n      <td>0.000000</td>\n    </tr>\n    <tr>\n      <th>50%</th>\n      <td>-9.330700</td>\n      <td>0.252830</td>\n      <td>-0.316040</td>\n      <td>-0.025118</td>\n      <td>-0.025118</td>\n      <td>1.785900</td>\n      <td>-9.570500</td>\n      <td>-0.711750</td>\n      <td>-0.161410</td>\n      <td>-0.741090</td>\n      <td>...</td>\n      <td>-3.572100</td>\n      <td>-7.269950</td>\n      <td>1.478000</td>\n      <td>-0.505880</td>\n      <td>-0.587270</td>\n      <td>0.400860</td>\n      <td>0.362590</td>\n      <td>0.352170</td>\n      <td>-0.369920</td>\n      <td>0.000000</td>\n    </tr>\n    <tr>\n      <th>75%</th>\n      <td>-8.020800</td>\n      <td>0.770090</td>\n      <td>1.665425</td>\n      <td>0.154890</td>\n      <td>0.163270</td>\n      <td>2.643100</td>\n      <td>-9.025600</td>\n      <td>0.649125</td>\n      <td>0.500930</td>\n      <td>-0.596620</td>\n      <td>...</td>\n      <td>-1.819600</td>\n      <td>-0.063443</td>\n      <td>4.387400</td>\n      <td>-0.129410</td>\n      <td>0.223820</td>\n      <td>0.775860</td>\n      <td>6.048675</td>\n      <td>10.905250</td>\n      <td>12.793000</td>\n      <td>0.000000</td>\n    </tr>\n    <tr>\n      <th>max</th>\n      <td>18.960000</td>\n      <td>20.713000</td>\n      <td>24.084000</td>\n      <td>5.450500</td>\n      <td>8.519100</td>\n      <td>20.054000</td>\n      <td>21.161000</td>\n      <td>25.015000</td>\n      <td>1.870100</td>\n      <td>1.525300</td>\n      <td>...</td>\n      <td>19.565000</td>\n      <td>21.914000</td>\n      <td>25.194000</td>\n      <td>1.162700</td>\n      <td>1.556500</td>\n      <td>2.750000</td>\n      <td>212.270000</td>\n      <td>334.980000</td>\n      <td>629.950000</td>\n      <td>12.000000</td>\n    </tr>\n  </tbody>\n</table>\n<p>8 rows × 24 columns</p>\n</div>"
     },
     "metadata": {},
     "execution_count": 9
    }
   ],
   "source": [
    "subject0_df.describe()"
   ]
  },
  {
   "cell_type": "code",
   "execution_count": 10,
   "metadata": {},
   "outputs": [
    {
     "output_type": "execute_result",
     "data": {
      "text/plain": "count    161280.000000\nmean          1.352356\nstd           2.981766\nmin           0.000000\n25%           0.000000\n50%           0.000000\n75%           0.000000\nmax          12.000000\nName: 23, dtype: float64"
     },
     "metadata": {},
     "execution_count": 10
    }
   ],
   "source": [
    "subject0_df[23].describe()"
   ]
  },
  {
   "cell_type": "code",
   "execution_count": 11,
   "metadata": {},
   "outputs": [],
   "source": [
    "# subject0_df[23][subject0_df[23] != 0]\n",
    "# subject0_df[23][subject0_df[23] != 0].plot(kind='bar')"
   ]
  },
  {
   "cell_type": "code",
   "execution_count": 12,
   "metadata": {},
   "outputs": [],
   "source": [
    "# subject0_df[23][subject0_df[23] != 0].head()\n",
    "# subject0_df[23][subject0_df[23] != 0].count()#35174 non-zero values meaning\n",
    "\n",
    "# 0 is null class. There is no activity going on?"
   ]
  },
  {
   "cell_type": "code",
   "execution_count": 13,
   "metadata": {},
   "outputs": [],
   "source": [
    "# subject0_df[23][subject0_df[23] == 4].head()\n",
    "# subject0_df[23][subject0_df[23] == 4].count() #3072"
   ]
  },
  {
   "cell_type": "code",
   "execution_count": 14,
   "metadata": {},
   "outputs": [],
   "source": [
    "# subject0_df[23][subject0_df[23] == 5].head()\n",
    "# subject0_df[23][subject0_df[23] == 5].count() #3072"
   ]
  },
  {
   "cell_type": "code",
   "execution_count": 15,
   "metadata": {},
   "outputs": [],
   "source": [
    "# 161280 (rows) / 1440 / 12     = 9.333333333333334\n",
    "# subject0_df.shape[0] / 1440 / 12"
   ]
  },
  {
   "cell_type": "code",
   "execution_count": 16,
   "metadata": {},
   "outputs": [],
   "source": [
    "# 3072 * 12 #= 36864 activity data rest is 0 (ie no activity)"
   ]
  },
  {
   "cell_type": "markdown",
   "metadata": {
    "tags": [
     "outputPrepend",
     "outputPrepend",
     "outputPrepend",
     "outputPrepend",
     "outputPrepend",
     "outputPrepend",
     "outputPrepend",
     "outputPrepend",
     "outputPrepend",
     "outputPrepend",
     "outputPrepend",
     "outputPrepend",
     "outputPrepend",
     "outputPrepend",
     "outputPrepend",
     "outputPrepend",
     "outputPrepend",
     "outputPrepend",
     "outputPrepend",
     "outputPrepend",
     "outputPrepend",
     "outputPrepend",
     "outputPrepend",
     "outputPrepend",
     "outputPrepend",
     "outputPrepend",
     "outputPrepend",
     "outputPrepend",
     "outputPrepend",
     "outputPrepend",
     "outputPrepend",
     "outputPrepend",
     "outputPrepend",
     "outputPrepend",
     "outputPrepend",
     "outputPrepend",
     "outputPrepend",
     "outputPrepend",
     "outputPrepend",
     "outputPrepend",
     "outputPrepend",
     "outputPrepend",
     "outputPrepend",
     "outputPrepend",
     "outputPrepend",
     "outputPrepend",
     "outputPrepend",
     "outputPrepend",
     "outputPrepend",
     "outputPrepend",
     "outputPrepend",
     "outputPrepend",
     "outputPrepend",
     "outputPrepend",
     "outputPrepend",
     "outputPrepend",
     "outputPrepend",
     "outputPrepend",
     "outputPrepend",
     "outputPrepend",
     "outputPrepend",
     "outputPrepend",
     "outputPrepend",
     "outputPrepend",
     "outputPrepend",
     "outputPrepend",
     "outputPrepend",
     "outputPrepend",
     "outputPrepend",
     "outputPrepend",
     "outputPrepend",
     "outputPrepend",
     "outputPrepend",
     "outputPrepend",
     "outputPrepend",
     "outputPrepend",
     "outputPrepend",
     "outputPrepend",
     "outputPrepend",
     "outputPrepend",
     "outputPrepend",
     "outputPrepend",
     "outputPrepend",
     "outputPrepend",
     "outputPrepend",
     "outputPrepend",
     "outputPrepend",
     "outputPrepend",
     "outputPrepend",
     "outputPrepend",
     "outputPrepend",
     "outputPrepend",
     "outputPrepend",
     "outputPrepend",
     "outputPrepend",
     "outputPrepend",
     "outputPrepend",
     "outputPrepend",
     "outputPrepend",
     "outputPrepend",
     "outputPrepend",
     "outputPrepend",
     "outputPrepend",
     "outputPrepend",
     "outputPrepend",
     "outputPrepend",
     "outputPrepend",
     "outputPrepend",
     "outputPrepend",
     "outputPrepend",
     "outputPrepend",
     "outputPrepend",
     "outputPrepend",
     "outputPrepend",
     "outputPrepend",
     "outputPrepend",
     "outputPrepend",
     "outputPrepend",
     "outputPrepend",
     "outputPrepend",
     "outputPrepend",
     "outputPrepend",
     "outputPrepend",
     "outputPrepend",
     "outputPrepend",
     "outputPrepend",
     "outputPrepend",
     "outputPrepend",
     "outputPrepend",
     "outputPrepend",
     "outputPrepend",
     "outputPrepend",
     "outputPrepend",
     "outputPrepend",
     "outputPrepend",
     "outputPrepend",
     "outputPrepend",
     "outputPrepend",
     "outputPrepend",
     "outputPrepend",
     "outputPrepend",
     "outputPrepend",
     "outputPrepend",
     "outputPrepend",
     "outputPrepend",
     "outputPrepend",
     "outputPrepend",
     "outputPrepend",
     "outputPrepend",
     "outputPrepend",
     "outputPrepend",
     "outputPrepend",
     "outputPrepend",
     "outputPrepend",
     "outputPrepend",
     "outputPrepend",
     "outputPrepend",
     "outputPrepend",
     "outputPrepend",
     "outputPrepend",
     "outputPrepend",
     "outputPrepend",
     "outputPrepend",
     "outputPrepend",
     "outputPrepend",
     "outputPrepend",
     "outputPrepend",
     "outputPrepend",
     "outputPrepend",
     "outputPrepend",
     "outputPrepend",
     "outputPrepend",
     "outputPrepend",
     "outputPrepend",
     "outputPrepend",
     "outputPrepend",
     "outputPrepend",
     "outputPrepend",
     "outputPrepend",
     "outputPrepend",
     "outputPrepend",
     "outputPrepend",
     "outputPrepend",
     "outputPrepend",
     "outputPrepend",
     "outputPrepend",
     "outputPrepend",
     "outputPrepend",
     "outputPrepend",
     "outputPrepend",
     "outputPrepend",
     "outputPrepend",
     "outputPrepend"
    ]
   },
   "source": [
    "10 people\n",
    "\n",
    "12 activities\n",
    "\n",
    "24th column (ie column 23 in 0-23) is activity set and there are 12 activities\n",
    "\n",
    "0 where there is no activity\n",
    "\n",
    "4 is for walking for example\n",
    "\n"
   ]
  },
  {
   "cell_type": "code",
   "execution_count": 17,
   "metadata": {},
   "outputs": [],
   "source": [
    "# subject0_df.to_csv('file_name.csv', header=False, index=False, encoding='utf-8')"
   ]
  },
  {
   "cell_type": "code",
   "execution_count": 18,
   "metadata": {},
   "outputs": [
    {
     "output_type": "execute_result",
     "data": {
      "text/plain": "0.0     126106\n8.0       3379\n5.0       3072\n1.0       3072\n11.0      3072\n7.0       3072\n6.0       3072\n4.0       3072\n9.0       3072\n3.0       3072\n10.0      3072\n2.0       3072\n12.0      1075\nName: 23, dtype: int64"
     },
     "metadata": {},
     "execution_count": 18
    }
   ],
   "source": [
    "subject0_df[23].value_counts()\n",
    "# subject0_df.groupby(23).count()"
   ]
  },
  {
   "cell_type": "code",
   "execution_count": null,
   "metadata": {},
   "outputs": [],
   "source": []
  }
 ],
 "metadata": {
  "language_info": {
   "name": "python",
   "codemirror_mode": {
    "name": "ipython",
    "version": 3
   },
   "version": "3.6.9-final"
  },
  "orig_nbformat": 2,
  "file_extension": ".py",
  "mimetype": "text/x-python",
  "name": "python",
  "npconvert_exporter": "python",
  "pygments_lexer": "ipython3",
  "version": 3,
  "kernelspec": {
   "name": "python36964bitenvvenv575d2e8d32e34e48a37fca624d9600be",
   "display_name": "Python 3.6.9 64-bit ('env': venv)"
  }
 },
 "nbformat": 4,
 "nbformat_minor": 2
}